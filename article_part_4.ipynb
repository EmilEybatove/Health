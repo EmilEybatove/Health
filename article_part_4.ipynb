{
  "cells": [
    {
      "cell_type": "markdown",
      "source": [
        "# Настал этот ужасный момент. Нужно создавать четвёртый файл. Но предобработка НАКОНЕЦ-ТО завершена"
      ],
      "metadata": {
        "id": "EOHOF1BccGC2"
      },
      "id": "EOHOF1BccGC2"
    },
    {
      "cell_type": "markdown",
      "source": [
        "как всегда, достанем датасет с гитхаба"
      ],
      "metadata": {
        "id": "wX2qiOfqcsF5"
      },
      "id": "wX2qiOfqcsF5"
    },
    {
      "cell_type": "code",
      "source": [],
      "metadata": {
        "id": "DCxacXANGTRR"
      },
      "id": "DCxacXANGTRR",
      "execution_count": null,
      "outputs": []
    },
    {
      "cell_type": "code",
      "source": [
        "df <- read.csv(\"https://raw.githubusercontent.com/EmilEybatove/Health/main/helth_after_isolation_forest.csv\")"
      ],
      "metadata": {
        "colab": {
          "base_uri": "https://localhost:8080/",
          "height": 165
        },
        "id": "ZGZBkGRFcRB_",
        "outputId": "04157605-0014-4b3b-a590-917751007029"
      },
      "id": "ZGZBkGRFcRB_",
      "execution_count": null,
      "outputs": [
        {
          "output_type": "error",
          "ename": "NameError",
          "evalue": "ignored",
          "traceback": [
            "\u001b[0;31m---------------------------------------------------------------------------\u001b[0m",
            "\u001b[0;31mNameError\u001b[0m                                 Traceback (most recent call last)",
            "\u001b[0;32m<ipython-input-2-0e311ecbb63e>\u001b[0m in \u001b[0;36m<cell line: 1>\u001b[0;34m()\u001b[0m\n\u001b[0;32m----> 1\u001b[0;31m \u001b[0mdf\u001b[0m \u001b[0;34m<\u001b[0m\u001b[0;34m-\u001b[0m \u001b[0mread\u001b[0m\u001b[0;34m.\u001b[0m\u001b[0mcsv\u001b[0m\u001b[0;34m(\u001b[0m\u001b[0;34m\"https://raw.githubusercontent.com/EmilEybatove/Health/main/helth_after_isolation_forest.csv\"\u001b[0m\u001b[0;34m)\u001b[0m\u001b[0;34m\u001b[0m\u001b[0;34m\u001b[0m\u001b[0m\n\u001b[0m",
            "\u001b[0;31mNameError\u001b[0m: name 'df' is not defined"
          ]
        }
      ]
    },
    {
      "cell_type": "markdown",
      "metadata": {
        "id": "ce6cfc08"
      },
      "source": [
        "Создадим константу, в которой будем хранить все пары лет (как-бы волны)"
      ],
      "id": "ce6cfc08"
    },
    {
      "cell_type": "code",
      "execution_count": null,
      "metadata": {
        "id": "55e2136f"
      },
      "outputs": [],
      "source": [
        "years <- paste(as.character(seq(1991, 2011, by=2)), \"-\", as.character(seq(1992, 2012, by=2)), sep=\"\")"
      ],
      "id": "55e2136f"
    },
    {
      "cell_type": "markdown",
      "source": [
        "## Полиномиальная модель"
      ],
      "metadata": {
        "id": "mJF26q0HeVxg"
      },
      "id": "mJF26q0HeVxg"
    },
    {
      "cell_type": "markdown",
      "source": [
        "Теперь, построим логит. модель, используя предположение о **полиномиальной зависимости** и посмотри на её псевдо-R^2"
      ],
      "metadata": {
        "id": "XXl2LldrXIvQ"
      },
      "id": "XXl2LldrXIvQ"
    },
    {
      "cell_type": "code",
      "execution_count": null,
      "metadata": {
        "colab": {
          "base_uri": "https://localhost:8080/",
          "height": 443
        },
        "id": "3ef84561",
        "outputId": "da285875-0418-4824-a6b1-99970b91676c"
      },
      "outputs": [
        {
          "output_type": "display_data",
          "data": {
            "text/html": [
              "<table class=\"dataframe\">\n",
              "<caption>A tibble: 11 × 6</caption>\n",
              "<thead>\n",
              "\t<tr><th scope=col>year</th><th scope=col>R_sqrt</th><th scope=col>log_income_coef</th><th scope=col>log_income_pr</th><th scope=col>log_income_2_coef</th><th scope=col>log_income_2_pr</th></tr>\n",
              "\t<tr><th scope=col>&lt;fct&gt;</th><th scope=col>&lt;dbl&gt;</th><th scope=col>&lt;dbl&gt;</th><th scope=col>&lt;dbl&gt;</th><th scope=col>&lt;dbl&gt;</th><th scope=col>&lt;dbl&gt;</th></tr>\n",
              "</thead>\n",
              "<tbody>\n",
              "\t<tr><td>1991-1992</td><td>0.12138224</td><td>0.34268994</td><td>1.881763e-11</td><td>-0.034261238</td><td>3.955918e-15</td></tr>\n",
              "\t<tr><td>1993-1994</td><td>0.12438674</td><td>0.32646865</td><td>3.198033e-13</td><td>-0.032888392</td><td>1.538328e-17</td></tr>\n",
              "\t<tr><td>1995-1996</td><td>0.10308799</td><td>0.14924140</td><td>1.527977e-03</td><td>-0.015015028</td><td>2.178708e-04</td></tr>\n",
              "\t<tr><td>1997-1998</td><td>0.07929740</td><td>0.16876540</td><td>1.834395e-04</td><td>-0.015353026</td><td>5.533564e-05</td></tr>\n",
              "\t<tr><td>1999-2000</td><td>0.07806055</td><td>0.21522301</td><td>2.095721e-06</td><td>-0.021831834</td><td>8.722351e-09</td></tr>\n",
              "\t<tr><td>2001-2002</td><td>0.07177097</td><td>0.22402718</td><td>1.042903e-05</td><td>-0.023193069</td><td>2.203824e-08</td></tr>\n",
              "\t<tr><td>2003-2004</td><td>0.07723664</td><td>0.06588256</td><td>1.593081e-01</td><td>-0.009136962</td><td>1.337465e-02</td></tr>\n",
              "\t<tr><td>2005-2006</td><td>0.08849607</td><td>0.16735180</td><td>1.092735e-03</td><td>-0.018044300</td><td>6.383350e-06</td></tr>\n",
              "\t<tr><td>2007-2008</td><td>0.06551647</td><td>0.20467646</td><td>1.103537e-04</td><td>-0.020341879</td><td>8.718067e-07</td></tr>\n",
              "\t<tr><td>2009-2010</td><td>0.06754956</td><td>0.12831975</td><td>1.993246e-02</td><td>-0.014675992</td><td>7.694789e-04</td></tr>\n",
              "\t<tr><td>2011-2012</td><td>0.06362972</td><td>0.13105575</td><td>2.244993e-02</td><td>-0.015089224</td><td>9.217845e-04</td></tr>\n",
              "</tbody>\n",
              "</table>\n"
            ],
            "text/markdown": "\nA tibble: 11 × 6\n\n| year &lt;fct&gt; | R_sqrt &lt;dbl&gt; | log_income_coef &lt;dbl&gt; | log_income_pr &lt;dbl&gt; | log_income_2_coef &lt;dbl&gt; | log_income_2_pr &lt;dbl&gt; |\n|---|---|---|---|---|---|\n| 1991-1992 | 0.12138224 | 0.34268994 | 1.881763e-11 | -0.034261238 | 3.955918e-15 |\n| 1993-1994 | 0.12438674 | 0.32646865 | 3.198033e-13 | -0.032888392 | 1.538328e-17 |\n| 1995-1996 | 0.10308799 | 0.14924140 | 1.527977e-03 | -0.015015028 | 2.178708e-04 |\n| 1997-1998 | 0.07929740 | 0.16876540 | 1.834395e-04 | -0.015353026 | 5.533564e-05 |\n| 1999-2000 | 0.07806055 | 0.21522301 | 2.095721e-06 | -0.021831834 | 8.722351e-09 |\n| 2001-2002 | 0.07177097 | 0.22402718 | 1.042903e-05 | -0.023193069 | 2.203824e-08 |\n| 2003-2004 | 0.07723664 | 0.06588256 | 1.593081e-01 | -0.009136962 | 1.337465e-02 |\n| 2005-2006 | 0.08849607 | 0.16735180 | 1.092735e-03 | -0.018044300 | 6.383350e-06 |\n| 2007-2008 | 0.06551647 | 0.20467646 | 1.103537e-04 | -0.020341879 | 8.718067e-07 |\n| 2009-2010 | 0.06754956 | 0.12831975 | 1.993246e-02 | -0.014675992 | 7.694789e-04 |\n| 2011-2012 | 0.06362972 | 0.13105575 | 2.244993e-02 | -0.015089224 | 9.217845e-04 |\n\n",
            "text/latex": "A tibble: 11 × 6\n\\begin{tabular}{llllll}\n year & R\\_sqrt & log\\_income\\_coef & log\\_income\\_pr & log\\_income\\_2\\_coef & log\\_income\\_2\\_pr\\\\\n <fct> & <dbl> & <dbl> & <dbl> & <dbl> & <dbl>\\\\\n\\hline\n\t 1991-1992 & 0.12138224 & 0.34268994 & 1.881763e-11 & -0.034261238 & 3.955918e-15\\\\\n\t 1993-1994 & 0.12438674 & 0.32646865 & 3.198033e-13 & -0.032888392 & 1.538328e-17\\\\\n\t 1995-1996 & 0.10308799 & 0.14924140 & 1.527977e-03 & -0.015015028 & 2.178708e-04\\\\\n\t 1997-1998 & 0.07929740 & 0.16876540 & 1.834395e-04 & -0.015353026 & 5.533564e-05\\\\\n\t 1999-2000 & 0.07806055 & 0.21522301 & 2.095721e-06 & -0.021831834 & 8.722351e-09\\\\\n\t 2001-2002 & 0.07177097 & 0.22402718 & 1.042903e-05 & -0.023193069 & 2.203824e-08\\\\\n\t 2003-2004 & 0.07723664 & 0.06588256 & 1.593081e-01 & -0.009136962 & 1.337465e-02\\\\\n\t 2005-2006 & 0.08849607 & 0.16735180 & 1.092735e-03 & -0.018044300 & 6.383350e-06\\\\\n\t 2007-2008 & 0.06551647 & 0.20467646 & 1.103537e-04 & -0.020341879 & 8.718067e-07\\\\\n\t 2009-2010 & 0.06754956 & 0.12831975 & 1.993246e-02 & -0.014675992 & 7.694789e-04\\\\\n\t 2011-2012 & 0.06362972 & 0.13105575 & 2.244993e-02 & -0.015089224 & 9.217845e-04\\\\\n\\end{tabular}\n",
            "text/plain": [
              "   year      R_sqrt     log_income_coef log_income_pr log_income_2_coef\n",
              "1  1991-1992 0.12138224 0.34268994      1.881763e-11  -0.034261238     \n",
              "2  1993-1994 0.12438674 0.32646865      3.198033e-13  -0.032888392     \n",
              "3  1995-1996 0.10308799 0.14924140      1.527977e-03  -0.015015028     \n",
              "4  1997-1998 0.07929740 0.16876540      1.834395e-04  -0.015353026     \n",
              "5  1999-2000 0.07806055 0.21522301      2.095721e-06  -0.021831834     \n",
              "6  2001-2002 0.07177097 0.22402718      1.042903e-05  -0.023193069     \n",
              "7  2003-2004 0.07723664 0.06588256      1.593081e-01  -0.009136962     \n",
              "8  2005-2006 0.08849607 0.16735180      1.092735e-03  -0.018044300     \n",
              "9  2007-2008 0.06551647 0.20467646      1.103537e-04  -0.020341879     \n",
              "10 2009-2010 0.06754956 0.12831975      1.993246e-02  -0.014675992     \n",
              "11 2011-2012 0.06362972 0.13105575      2.244993e-02  -0.015089224     \n",
              "   log_income_2_pr\n",
              "1  3.955918e-15   \n",
              "2  1.538328e-17   \n",
              "3  2.178708e-04   \n",
              "4  5.533564e-05   \n",
              "5  8.722351e-09   \n",
              "6  2.203824e-08   \n",
              "7  1.337465e-02   \n",
              "8  6.383350e-06   \n",
              "9  8.718067e-07   \n",
              "10 7.694789e-04   \n",
              "11 9.217845e-04   "
            ]
          },
          "metadata": {}
        }
      ],
      "source": [
        "df %>%\n",
        "    group_by(year) %>%\n",
        "    summarise(R_sqrt = with(summary(glm(\n",
        "    depres ~ family_problems + ragender + ragey_b + pension + unemployed +\n",
        "      log_income + log_income2 + raedyrs + disabled, family = \"binomial\")), 1 - deviance/null.deviance),\n",
        "\n",
        "    log_income_coef = summary(glm(\n",
        "    depres ~ family_problems + ragender + ragey_b + pension + unemployed +\n",
        "      log_income + log_income2 + raedyrs + disabled, family = \"binomial\"))$coefficients[\"log_income\", \"Estimate\"],\n",
        "\n",
        "    log_income_pr = summary(glm(\n",
        "    depres ~ family_problems + ragender + ragey_b + pension + unemployed +\n",
        "      log_income + log_income2 + raedyrs + disabled, family = \"binomial\"))$coefficients[\"log_income\", \"Pr(>|z|)\"],\n",
        "\n",
        "    log_income_2_coef = summary(glm(\n",
        "    depres ~ family_problems + ragender + ragey_b + pension + unemployed +\n",
        "      log_income + log_income2 + raedyrs + disabled, family = \"binomial\"))$coefficients[\"log_income2\", \"Estimate\"],\n",
        "\n",
        "    log_income_2_pr = summary(glm(\n",
        "    depres ~ family_problems + ragender + ragey_b + pension + unemployed +\n",
        "      log_income + log_income2 + raedyrs + disabled, family = \"binomial\"))$coefficients[\"log_income2\", \"Pr(>|z|)\"],\n",
        ")"
      ],
      "id": "3ef84561"
    },
    {
      "cell_type": "markdown",
      "source": [
        "проведём VIF тест для такой модели. Для этого используем библиотеку car, в которой есть подходящая команда"
      ],
      "metadata": {
        "id": "TIK1CcembROM"
      },
      "id": "TIK1CcembROM"
    },
    {
      "cell_type": "code",
      "source": [
        "# install.packages(\"car\")"
      ],
      "metadata": {
        "colab": {
          "base_uri": "https://localhost:8080/"
        },
        "id": "HHu1ojhnbv2w",
        "outputId": "b5320e43-70cd-4a5c-d983-c74586393f67"
      },
      "execution_count": null,
      "outputs": [
        {
          "output_type": "stream",
          "name": "stderr",
          "text": [
            "Installing package into ‘/usr/local/lib/R/site-library’\n",
            "(as ‘lib’ is unspecified)\n",
            "\n",
            "also installing the dependency ‘pbkrtest’\n",
            "\n",
            "\n"
          ]
        }
      ],
      "id": "HHu1ojhnbv2w"
    },
    {
      "cell_type": "code",
      "source": [
        "library(car)"
      ],
      "metadata": {
        "colab": {
          "base_uri": "https://localhost:8080/"
        },
        "id": "re1oWXdpdUUv",
        "outputId": "a87f8dd5-5f71-4a21-8628-bb26e8278c29"
      },
      "execution_count": null,
      "outputs": [
        {
          "output_type": "stream",
          "name": "stderr",
          "text": [
            "Loading required package: carData\n",
            "\n",
            "\n",
            "Attaching package: ‘car’\n",
            "\n",
            "\n",
            "The following object is masked from ‘package:dplyr’:\n",
            "\n",
            "    recode\n",
            "\n",
            "\n"
          ]
        }
      ],
      "id": "re1oWXdpdUUv"
    },
    {
      "cell_type": "code",
      "source": [
        "df %>%\n",
        "    group_by(year) %>%\n",
        "    summarise(VIF = vif(glm(\n",
        "    depres ~ family_problems + ragender + ragey_b + pension + unemployed +\n",
        "      log_income + log_income2 + raedyrs + disabled, family = \"binomial\"))[\"log_income2\"])"
      ],
      "metadata": {
        "colab": {
          "base_uri": "https://localhost:8080/",
          "height": 443
        },
        "id": "POV7kBpzbVnI",
        "outputId": "7a4a5084-ab95-472e-cd39-64ad99847c0b"
      },
      "execution_count": null,
      "outputs": [
        {
          "output_type": "display_data",
          "data": {
            "text/html": [
              "<table class=\"dataframe\">\n",
              "<caption>A tibble: 11 × 2</caption>\n",
              "<thead>\n",
              "\t<tr><th scope=col>year</th><th scope=col>VIF</th></tr>\n",
              "\t<tr><th scope=col>&lt;fct&gt;</th><th scope=col>&lt;dbl&gt;</th></tr>\n",
              "</thead>\n",
              "<tbody>\n",
              "\t<tr><td>1991-1992</td><td>16.62726</td></tr>\n",
              "\t<tr><td>1993-1994</td><td>17.73338</td></tr>\n",
              "\t<tr><td>1995-1996</td><td>18.27456</td></tr>\n",
              "\t<tr><td>1997-1998</td><td>16.33044</td></tr>\n",
              "\t<tr><td>1999-2000</td><td>15.83481</td></tr>\n",
              "\t<tr><td>2001-2002</td><td>14.27132</td></tr>\n",
              "\t<tr><td>2003-2004</td><td>13.42739</td></tr>\n",
              "\t<tr><td>2005-2006</td><td>12.86453</td></tr>\n",
              "\t<tr><td>2007-2008</td><td>12.52493</td></tr>\n",
              "\t<tr><td>2009-2010</td><td>12.36138</td></tr>\n",
              "\t<tr><td>2011-2012</td><td>11.75970</td></tr>\n",
              "</tbody>\n",
              "</table>\n"
            ],
            "text/markdown": "\nA tibble: 11 × 2\n\n| year &lt;fct&gt; | VIF &lt;dbl&gt; |\n|---|---|\n| 1991-1992 | 16.62726 |\n| 1993-1994 | 17.73338 |\n| 1995-1996 | 18.27456 |\n| 1997-1998 | 16.33044 |\n| 1999-2000 | 15.83481 |\n| 2001-2002 | 14.27132 |\n| 2003-2004 | 13.42739 |\n| 2005-2006 | 12.86453 |\n| 2007-2008 | 12.52493 |\n| 2009-2010 | 12.36138 |\n| 2011-2012 | 11.75970 |\n\n",
            "text/latex": "A tibble: 11 × 2\n\\begin{tabular}{ll}\n year & VIF\\\\\n <fct> & <dbl>\\\\\n\\hline\n\t 1991-1992 & 16.62726\\\\\n\t 1993-1994 & 17.73338\\\\\n\t 1995-1996 & 18.27456\\\\\n\t 1997-1998 & 16.33044\\\\\n\t 1999-2000 & 15.83481\\\\\n\t 2001-2002 & 14.27132\\\\\n\t 2003-2004 & 13.42739\\\\\n\t 2005-2006 & 12.86453\\\\\n\t 2007-2008 & 12.52493\\\\\n\t 2009-2010 & 12.36138\\\\\n\t 2011-2012 & 11.75970\\\\\n\\end{tabular}\n",
            "text/plain": [
              "   year      VIF     \n",
              "1  1991-1992 16.62726\n",
              "2  1993-1994 17.73338\n",
              "3  1995-1996 18.27456\n",
              "4  1997-1998 16.33044\n",
              "5  1999-2000 15.83481\n",
              "6  2001-2002 14.27132\n",
              "7  2003-2004 13.42739\n",
              "8  2005-2006 12.86453\n",
              "9  2007-2008 12.52493\n",
              "10 2009-2010 12.36138\n",
              "11 2011-2012 11.75970"
            ]
          },
          "metadata": {}
        }
      ],
      "id": "POV7kBpzbVnI"
    },
    {
      "cell_type": "markdown",
      "source": [
        "Есть основания исключить эту переменную из-за очень высокого VIF"
      ],
      "metadata": {
        "id": "MuiHNPcHeOPM"
      },
      "id": "MuiHNPcHeOPM"
    },
    {
      "cell_type": "markdown",
      "source": [
        "## Линейная модель"
      ],
      "metadata": {
        "id": "tF1-qiGeecpo"
      },
      "id": "tF1-qiGeecpo"
    },
    {
      "cell_type": "markdown",
      "source": [
        "Теперь построим такую же модель с линейной зависимостью"
      ],
      "metadata": {
        "id": "dzZNNbiKbAD4"
      },
      "id": "dzZNNbiKbAD4"
    },
    {
      "cell_type": "code",
      "execution_count": null,
      "metadata": {
        "colab": {
          "base_uri": "https://localhost:8080/",
          "height": 443
        },
        "id": "c8cf9199",
        "outputId": "3faeecad-40a4-4a3c-8c21-eb01d854cfb1"
      },
      "outputs": [
        {
          "output_type": "display_data",
          "data": {
            "text/html": [
              "<table class=\"dataframe\">\n",
              "<caption>A tibble: 11 × 4</caption>\n",
              "<thead>\n",
              "\t<tr><th scope=col>year</th><th scope=col>R_sqrt</th><th scope=col>log_income_coef</th><th scope=col>log_income_pr</th></tr>\n",
              "\t<tr><th scope=col>&lt;fct&gt;</th><th scope=col>&lt;dbl&gt;</th><th scope=col>&lt;dbl&gt;</th><th scope=col>&lt;dbl&gt;</th></tr>\n",
              "</thead>\n",
              "<tbody>\n",
              "\t<tr><td>1991-1992</td><td>0.12138224</td><td>0.34268994</td><td>1.881763e-11</td></tr>\n",
              "\t<tr><td>1993-1994</td><td>0.12438674</td><td>0.32646865</td><td>3.198033e-13</td></tr>\n",
              "\t<tr><td>1995-1996</td><td>0.10308799</td><td>0.14924140</td><td>1.527977e-03</td></tr>\n",
              "\t<tr><td>1997-1998</td><td>0.07929740</td><td>0.16876540</td><td>1.834395e-04</td></tr>\n",
              "\t<tr><td>1999-2000</td><td>0.07806055</td><td>0.21522301</td><td>2.095721e-06</td></tr>\n",
              "\t<tr><td>2001-2002</td><td>0.07177097</td><td>0.22402718</td><td>1.042903e-05</td></tr>\n",
              "\t<tr><td>2003-2004</td><td>0.07723664</td><td>0.06588256</td><td>1.593081e-01</td></tr>\n",
              "\t<tr><td>2005-2006</td><td>0.08849607</td><td>0.16735180</td><td>1.092735e-03</td></tr>\n",
              "\t<tr><td>2007-2008</td><td>0.06551647</td><td>0.20467646</td><td>1.103537e-04</td></tr>\n",
              "\t<tr><td>2009-2010</td><td>0.06754956</td><td>0.12831975</td><td>1.993246e-02</td></tr>\n",
              "\t<tr><td>2011-2012</td><td>0.06362972</td><td>0.13105575</td><td>2.244993e-02</td></tr>\n",
              "</tbody>\n",
              "</table>\n"
            ],
            "text/markdown": "\nA tibble: 11 × 4\n\n| year &lt;fct&gt; | R_sqrt &lt;dbl&gt; | log_income_coef &lt;dbl&gt; | log_income_pr &lt;dbl&gt; |\n|---|---|---|---|\n| 1991-1992 | 0.12138224 | 0.34268994 | 1.881763e-11 |\n| 1993-1994 | 0.12438674 | 0.32646865 | 3.198033e-13 |\n| 1995-1996 | 0.10308799 | 0.14924140 | 1.527977e-03 |\n| 1997-1998 | 0.07929740 | 0.16876540 | 1.834395e-04 |\n| 1999-2000 | 0.07806055 | 0.21522301 | 2.095721e-06 |\n| 2001-2002 | 0.07177097 | 0.22402718 | 1.042903e-05 |\n| 2003-2004 | 0.07723664 | 0.06588256 | 1.593081e-01 |\n| 2005-2006 | 0.08849607 | 0.16735180 | 1.092735e-03 |\n| 2007-2008 | 0.06551647 | 0.20467646 | 1.103537e-04 |\n| 2009-2010 | 0.06754956 | 0.12831975 | 1.993246e-02 |\n| 2011-2012 | 0.06362972 | 0.13105575 | 2.244993e-02 |\n\n",
            "text/latex": "A tibble: 11 × 4\n\\begin{tabular}{llll}\n year & R\\_sqrt & log\\_income\\_coef & log\\_income\\_pr\\\\\n <fct> & <dbl> & <dbl> & <dbl>\\\\\n\\hline\n\t 1991-1992 & 0.12138224 & 0.34268994 & 1.881763e-11\\\\\n\t 1993-1994 & 0.12438674 & 0.32646865 & 3.198033e-13\\\\\n\t 1995-1996 & 0.10308799 & 0.14924140 & 1.527977e-03\\\\\n\t 1997-1998 & 0.07929740 & 0.16876540 & 1.834395e-04\\\\\n\t 1999-2000 & 0.07806055 & 0.21522301 & 2.095721e-06\\\\\n\t 2001-2002 & 0.07177097 & 0.22402718 & 1.042903e-05\\\\\n\t 2003-2004 & 0.07723664 & 0.06588256 & 1.593081e-01\\\\\n\t 2005-2006 & 0.08849607 & 0.16735180 & 1.092735e-03\\\\\n\t 2007-2008 & 0.06551647 & 0.20467646 & 1.103537e-04\\\\\n\t 2009-2010 & 0.06754956 & 0.12831975 & 1.993246e-02\\\\\n\t 2011-2012 & 0.06362972 & 0.13105575 & 2.244993e-02\\\\\n\\end{tabular}\n",
            "text/plain": [
              "   year      R_sqrt     log_income_coef log_income_pr\n",
              "1  1991-1992 0.12138224 0.34268994      1.881763e-11 \n",
              "2  1993-1994 0.12438674 0.32646865      3.198033e-13 \n",
              "3  1995-1996 0.10308799 0.14924140      1.527977e-03 \n",
              "4  1997-1998 0.07929740 0.16876540      1.834395e-04 \n",
              "5  1999-2000 0.07806055 0.21522301      2.095721e-06 \n",
              "6  2001-2002 0.07177097 0.22402718      1.042903e-05 \n",
              "7  2003-2004 0.07723664 0.06588256      1.593081e-01 \n",
              "8  2005-2006 0.08849607 0.16735180      1.092735e-03 \n",
              "9  2007-2008 0.06551647 0.20467646      1.103537e-04 \n",
              "10 2009-2010 0.06754956 0.12831975      1.993246e-02 \n",
              "11 2011-2012 0.06362972 0.13105575      2.244993e-02 "
            ]
          },
          "metadata": {}
        }
      ],
      "source": [
        "df %>%\n",
        "    group_by(year) %>%\n",
        "    summarise(R_sqrt = with(summary(glm(\n",
        "    depres ~ family_problems + ragender + ragey_b + pension + unemployed +\n",
        "      log_income + log_income2 + raedyrs + disabled, family = \"binomial\")), 1 - deviance/null.deviance),\n",
        "\n",
        "    log_income_coef = summary(glm(\n",
        "    depres ~ family_problems + ragender + ragey_b + pension + unemployed +\n",
        "      log_income + log_income2 + raedyrs + disabled, family = \"binomial\"))$coefficients[\"log_income\", \"Estimate\"],\n",
        "\n",
        "    log_income_pr = summary(glm(\n",
        "    depres ~ family_problems + ragender + ragey_b + pension + unemployed +\n",
        "      log_income + log_income2 + raedyrs + disabled, family = \"binomial\"))$coefficients[\"log_income\", \"Pr(>|z|)\"])"
      ],
      "id": "c8cf9199"
    },
    {
      "cell_type": "markdown",
      "source": [
        "## Модель с использованием инструментов"
      ],
      "metadata": {
        "id": "9F3EPLIKgso_"
      },
      "id": "9F3EPLIKgso_"
    },
    {
      "cell_type": "markdown",
      "source": [
        "используем библиотеку ivtools для работы с инструментами"
      ],
      "metadata": {
        "id": "V0xdYjsQpC8Y"
      },
      "id": "V0xdYjsQpC8Y"
    },
    {
      "cell_type": "code",
      "source": [
        "# install.packages(\"ivtools\")"
      ],
      "metadata": {
        "colab": {
          "base_uri": "https://localhost:8080/"
        },
        "id": "Q5zIS70UjZlC",
        "outputId": "15db2e55-ed21-4e47-f2c9-c7aa5ff5dc7c"
      },
      "execution_count": null,
      "outputs": [
        {
          "output_type": "stream",
          "name": "stderr",
          "text": [
            "Installing package into ‘/usr/local/lib/R/site-library’\n",
            "(as ‘lib’ is unspecified)\n",
            "\n",
            "also installing the dependencies ‘nleqslv’, ‘ahaz’\n",
            "\n",
            "\n"
          ]
        }
      ],
      "id": "Q5zIS70UjZlC"
    },
    {
      "cell_type": "code",
      "source": [
        "library(ivtools)"
      ],
      "metadata": {
        "id": "CgCag-RqjWsQ"
      },
      "execution_count": null,
      "outputs": [],
      "id": "CgCag-RqjWsQ"
    },
    {
      "cell_type": "markdown",
      "source": [
        "напишем функцию, которая выдаёт модель с инструментом за конкретный год"
      ],
      "metadata": {
        "id": "wTDLpJyQpPbP"
      },
      "id": "wTDLpJyQpPbP"
    },
    {
      "cell_type": "markdown",
      "source": [
        "Пока, не уверен, что работает метод из библиотеки, поэтому пишу свой"
      ],
      "metadata": {
        "id": "HaWeEkD8r6Zp"
      },
      "id": "HaWeEkD8r6Zp"
    },
    {
      "cell_type": "code",
      "source": [
        "ivmodel2 <- function(year){\n",
        "  subdf <- df[df$year == year,]\n",
        "  instrument <- glm(sum ~ ragey_b + age_2 + pension + disabled + raedyrs + unemployed, data=subdf)\n",
        "  model <- glm(depres ~ family_problems + ragender + I(log(sum)), data=subdf, family=\"binomial\")\n",
        "  return(summary(model))\n",
        "  }"
      ],
      "metadata": {
        "id": "Z-yxnR3prSuQ"
      },
      "execution_count": null,
      "outputs": [],
      "id": "Z-yxnR3prSuQ"
    },
    {
      "cell_type": "code",
      "source": [
        "ivmodel <- function(year){\n",
        "  subdf <- df[df$year == year,]\n",
        "  fitX.LZ <- glm(sum ~ ragey_b + age_2 + pension + disabled + raedyrs + unemployed, data=subdf)\n",
        "  fitY.LX <- glm(depres ~ family_problems + ragender + I(log(sum)), data=subdf, family=\"binomial\")\n",
        "  fitIV <- ivglm(estmethod=\"ts\", fitX.LZ=fitX.LZ, fitY.LX=fitY.LX, data=subdf)\n",
        "  return(fitIV)\n",
        "  # return(summary(fitIV))\n",
        "}"
      ],
      "metadata": {
        "id": "WHY6X8Eyiexc"
      },
      "execution_count": null,
      "outputs": [],
      "id": "WHY6X8Eyiexc"
    },
    {
      "cell_type": "code",
      "source": [
        "df %>%\n",
        "  group_by(year) %>%\n",
        "  summarise(\n",
        "    coef = ivmodel2(year)$coefficients[\"I(log(sum))\", \"Estimate\"],\n",
        "    prob = ivmodel2(year)$coefficients[\"I(log(sum))\", \"Pr(>|z|)\"])"
      ],
      "metadata": {
        "colab": {
          "base_uri": "https://localhost:8080/",
          "height": 582
        },
        "id": "DteIrgJRink5",
        "outputId": "fda7a296-446a-4e50-cffd-0fc78f2c7f8e"
      },
      "execution_count": null,
      "outputs": [
        {
          "output_type": "stream",
          "name": "stderr",
          "text": [
            "Warning message:\n",
            "“\u001b[1m\u001b[22mThere were 44 warnings in `summarise()`.\n",
            "The first warning was:\n",
            "\u001b[1m\u001b[22m\u001b[36mℹ\u001b[39m In argument: `coef = ivmodel2(year)$coefficients[\"I(log(sum))\", \"Estimate\"]`.\n",
            "\u001b[36mℹ\u001b[39m In group 1: `year = 1991-1992`.\n",
            "Caused by warning in `==.default`:\n",
            "\u001b[33m!\u001b[39m longer object length is not a multiple of shorter object length\n",
            "\u001b[1m\u001b[22m\u001b[36mℹ\u001b[39m Run `dplyr::last_dplyr_warnings()` to see the 43 remaining warnings.”\n"
          ]
        },
        {
          "output_type": "display_data",
          "data": {
            "text/html": [
              "<table class=\"dataframe\">\n",
              "<caption>A tibble: 11 × 3</caption>\n",
              "<thead>\n",
              "\t<tr><th scope=col>year</th><th scope=col>coef</th><th scope=col>prob</th></tr>\n",
              "\t<tr><th scope=col>&lt;fct&gt;</th><th scope=col>&lt;dbl&gt;</th><th scope=col>&lt;dbl&gt;</th></tr>\n",
              "</thead>\n",
              "<tbody>\n",
              "\t<tr><td>1991-1992</td><td>-0.10169398</td><td>5.187167e-20</td></tr>\n",
              "\t<tr><td>1993-1994</td><td>-0.08630215</td><td>1.247200e-18</td></tr>\n",
              "\t<tr><td>1995-1996</td><td>-0.06321774</td><td>3.090247e-10</td></tr>\n",
              "\t<tr><td>1997-1998</td><td>-0.05083703</td><td>9.957110e-07</td></tr>\n",
              "\t<tr><td>1999-2000</td><td>-0.08408349</td><td>3.587330e-15</td></tr>\n",
              "\t<tr><td>2001-2002</td><td>-0.09947572</td><td>6.212769e-15</td></tr>\n",
              "\t<tr><td>2003-2004</td><td>-0.10088466</td><td>9.326438e-17</td></tr>\n",
              "\t<tr><td>2005-2006</td><td>-0.11586385</td><td>6.236496e-18</td></tr>\n",
              "\t<tr><td>2007-2008</td><td>-0.09061435</td><td>9.570511e-11</td></tr>\n",
              "\t<tr><td>2009-2010</td><td>-0.10434010</td><td>1.038985e-11</td></tr>\n",
              "\t<tr><td>2011-2012</td><td>-0.10395240</td><td>1.083589e-10</td></tr>\n",
              "</tbody>\n",
              "</table>\n"
            ],
            "text/markdown": "\nA tibble: 11 × 3\n\n| year &lt;fct&gt; | coef &lt;dbl&gt; | prob &lt;dbl&gt; |\n|---|---|---|\n| 1991-1992 | -0.10169398 | 5.187167e-20 |\n| 1993-1994 | -0.08630215 | 1.247200e-18 |\n| 1995-1996 | -0.06321774 | 3.090247e-10 |\n| 1997-1998 | -0.05083703 | 9.957110e-07 |\n| 1999-2000 | -0.08408349 | 3.587330e-15 |\n| 2001-2002 | -0.09947572 | 6.212769e-15 |\n| 2003-2004 | -0.10088466 | 9.326438e-17 |\n| 2005-2006 | -0.11586385 | 6.236496e-18 |\n| 2007-2008 | -0.09061435 | 9.570511e-11 |\n| 2009-2010 | -0.10434010 | 1.038985e-11 |\n| 2011-2012 | -0.10395240 | 1.083589e-10 |\n\n",
            "text/latex": "A tibble: 11 × 3\n\\begin{tabular}{lll}\n year & coef & prob\\\\\n <fct> & <dbl> & <dbl>\\\\\n\\hline\n\t 1991-1992 & -0.10169398 & 5.187167e-20\\\\\n\t 1993-1994 & -0.08630215 & 1.247200e-18\\\\\n\t 1995-1996 & -0.06321774 & 3.090247e-10\\\\\n\t 1997-1998 & -0.05083703 & 9.957110e-07\\\\\n\t 1999-2000 & -0.08408349 & 3.587330e-15\\\\\n\t 2001-2002 & -0.09947572 & 6.212769e-15\\\\\n\t 2003-2004 & -0.10088466 & 9.326438e-17\\\\\n\t 2005-2006 & -0.11586385 & 6.236496e-18\\\\\n\t 2007-2008 & -0.09061435 & 9.570511e-11\\\\\n\t 2009-2010 & -0.10434010 & 1.038985e-11\\\\\n\t 2011-2012 & -0.10395240 & 1.083589e-10\\\\\n\\end{tabular}\n",
            "text/plain": [
              "   year      coef        prob        \n",
              "1  1991-1992 -0.10169398 5.187167e-20\n",
              "2  1993-1994 -0.08630215 1.247200e-18\n",
              "3  1995-1996 -0.06321774 3.090247e-10\n",
              "4  1997-1998 -0.05083703 9.957110e-07\n",
              "5  1999-2000 -0.08408349 3.587330e-15\n",
              "6  2001-2002 -0.09947572 6.212769e-15\n",
              "7  2003-2004 -0.10088466 9.326438e-17\n",
              "8  2005-2006 -0.11586385 6.236496e-18\n",
              "9  2007-2008 -0.09061435 9.570511e-11\n",
              "10 2009-2010 -0.10434010 1.038985e-11\n",
              "11 2011-2012 -0.10395240 1.083589e-10"
            ]
          },
          "metadata": {}
        }
      ],
      "id": "DteIrgJRink5"
    }
  ],
  "metadata": {
    "colab": {
      "provenance": []
    },
    "gpuClass": "standard",
    "language_info": {
      "name": "python"
    },
    "kernelspec": {
      "name": "python3",
      "display_name": "Python 3"
    }
  },
  "nbformat": 4,
  "nbformat_minor": 5
}