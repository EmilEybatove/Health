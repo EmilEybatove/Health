{
 "cells": [
  {
   "cell_type": "markdown",
   "id": "a0b9a041",
   "metadata": {
    "id": "a0b9a041"
   },
   "source": [
    "откроем датасет"
   ]
  },
  {
   "cell_type": "code",
   "execution_count": 32,
   "id": "521908cf-ff18-452d-892b-0ad75323b3db",
   "metadata": {},
   "outputs": [
    {
     "name": "stderr",
     "output_type": "stream",
     "text": [
      "Устанавливаю пакет в 'C:/Users/Emil/AppData/Local/R/win-library/4.3'\n",
      "(потому что 'lib' не определено)\n",
      "\n"
     ]
    },
    {
     "name": "stdout",
     "output_type": "stream",
     "text": [
      "пакет 'curl' успешно распакован, MD5-суммы проверены\n"
     ]
    },
    {
     "name": "stderr",
     "output_type": "stream",
     "text": [
      "Warning message:\n",
      "\"не могу удалить прежнюю установку пакета 'curl'\"\n",
      "Warning message in file.copy(savedcopy, lib, recursive = TRUE):\n",
      "\"проблема с копированием C:\\Users\\Emil\\AppData\\Local\\R\\win-library\\4.3\\00LOCK\\curl\\libs\\x64\\curl.dll в C:\\Users\\Emil\\AppData\\Local\\R\\win-library\\4.3\\curl\\libs\\x64\\curl.dll: Permission denied\"\n",
      "Warning message:\n",
      "\"восстановлен 'curl'\"\n"
     ]
    },
    {
     "name": "stdout",
     "output_type": "stream",
     "text": [
      "\n",
      "Скачанные бинарные пакеты находятся в\n",
      "\tC:\\Users\\Emil\\AppData\\Local\\Temp\\Rtmpsz7Xjt\\downloaded_packages\n"
     ]
    },
    {
     "name": "stderr",
     "output_type": "stream",
     "text": [
      "Using libcurl 7.84.0 with Schannel\n",
      "\n",
      "\n",
      "Присоединяю пакет: 'curl'\n",
      "\n",
      "\n",
      "Следующий объект скрыт от 'package:readr':\n",
      "\n",
      "    parse_date\n",
      "\n",
      "\n"
     ]
    }
   ],
   "source": [
    "install.packages(\"curl\")\n",
    "library(curl)"
   ]
  },
  {
   "cell_type": "code",
   "execution_count": 34,
   "id": "9e8c71d0-823d-41ca-bf18-0fe1e65c08b2",
   "metadata": {},
   "outputs": [
    {
     "data": {
      "text/plain": [
       "A connection with                                                                                                \n",
       "description \"https://raw.githubusercontent.com/EmilEybatove/Health/main/new_Health_with_nan.csv\"\n",
       "class       \"curl\"                                                                              \n",
       "mode        \"r\"                                                                                 \n",
       "text        \"text\"                                                                              \n",
       "opened      \"closed\"                                                                            \n",
       "can read    \"yes\"                                                                               \n",
       "can write   \"no\"                                                                                "
      ]
     },
     "metadata": {},
     "output_type": "display_data"
    }
   ],
   "source": [
    "curl(\"https://raw.githubusercontent.com/EmilEybatove/Health/main/new_Health_with_nan.csv\")"
   ]
  },
  {
   "cell_type": "code",
   "execution_count": 36,
   "id": "fb4baf4d",
   "metadata": {
    "id": "fb4baf4d"
   },
   "outputs": [
    {
     "name": "stderr",
     "output_type": "stream",
     "text": [
      "Warning message in file(file, \"rt\"):\n",
      "\"URL 'https://raw.githubusercontent.com/EmilEybatove/Health/main/new_Health_with_nan.csv': состояние было 'SSL connect error'\"\n"
     ]
    },
    {
     "ename": "ERROR",
     "evalue": "Error in file(file, \"rt\"): не могу открыть соединение с 'https://raw.githubusercontent.com/EmilEybatove/Health/main/new_Health_with_nan.csv'\n",
     "output_type": "error",
     "traceback": [
      "Error in file(file, \"rt\"): не могу открыть соединение с 'https://raw.githubusercontent.com/EmilEybatove/Health/main/new_Health_with_nan.csv'\nTraceback:\n",
      "1. read.csv(\"https://raw.githubusercontent.com/EmilEybatove/Health/main/new_Health_with_nan.csv\")",
      "2. read.table(file = file, header = header, sep = sep, quote = quote, \n .     dec = dec, fill = fill, comment.char = comment.char, ...)",
      "3. file(file, \"rt\")"
     ]
    }
   ],
   "source": [
    "df <- read.csv(\"https://raw.githubusercontent.com/EmilEybatove/Health/main/new_Health_with_nan.csv\")"
   ]
  },
  {
   "cell_type": "code",
   "execution_count": 31,
   "id": "e5c04311-0669-4fb1-b876-b6432718954b",
   "metadata": {},
   "outputs": [
    {
     "data": {
      "text/html": [
       "<pre class=language-r><code>function (x, df1, df2, ncp, log = FALSE) \n",
       "{\n",
       "<span style=white-space:pre-wrap>    if (missing(ncp)) </span>\n",
       "<span style=white-space:pre-wrap>        .Call(C_df, x, df1, df2, log)</span>\n",
       "<span style=white-space:pre-wrap>    else .Call(C_dnf, x, df1, df2, ncp, log)</span>\n",
       "}</code></pre>"
      ],
      "text/latex": [
       "\\begin{minted}{r}\n",
       "function (x, df1, df2, ncp, log = FALSE) \n",
       "\\{\n",
       "    if (missing(ncp)) \n",
       "        .Call(C\\_df, x, df1, df2, log)\n",
       "    else .Call(C\\_dnf, x, df1, df2, ncp, log)\n",
       "\\}\n",
       "\\end{minted}"
      ],
      "text/markdown": [
       "```r\n",
       "function (x, df1, df2, ncp, log = FALSE) \n",
       "{\n",
       "    if (missing(ncp)) \n",
       "        .Call(C_df, x, df1, df2, log)\n",
       "    else .Call(C_dnf, x, df1, df2, ncp, log)\n",
       "}\n",
       "```"
      ],
      "text/plain": [
       "function (x, df1, df2, ncp, log = FALSE) \n",
       "{\n",
       "    if (missing(ncp)) \n",
       "        .Call(C_df, x, df1, df2, log)\n",
       "    else .Call(C_dnf, x, df1, df2, ncp, log)\n",
       "}\n",
       "<bytecode: 0x0000023a936b4e80>\n",
       "<environment: namespace:stats>"
      ]
     },
     "metadata": {},
     "output_type": "display_data"
    }
   ],
   "source": [
    "df"
   ]
  },
  {
   "cell_type": "markdown",
   "id": "89be5183",
   "metadata": {
    "id": "89be5183"
   },
   "source": [
    "В силу того, что я тупой, я насоздавал бесполезных индексов. Сейчас избавлюсь от них"
   ]
  },
  {
   "cell_type": "code",
   "execution_count": 3,
   "id": "6e68b705",
   "metadata": {
    "id": "6e68b705"
   },
   "outputs": [
    {
     "ename": "ERROR",
     "evalue": "Error in subset.default(df, select = -c(X)): аргумент \"subset\" пропущен, умолчаний нет\n",
     "output_type": "error",
     "traceback": [
      "Error in subset.default(df, select = -c(X)): аргумент \"subset\" пропущен, умолчаний нет\nTraceback:\n",
      "1. subset(df, select = -c(X))",
      "2. subset.default(df, select = -c(X))"
     ]
    }
   ],
   "source": [
    "df <- subset(df, select=-c(X))"
   ]
  },
  {
   "cell_type": "markdown",
   "id": "be81a918",
   "metadata": {
    "id": "be81a918"
   },
   "source": [
    "Теперь, напишем константу, в которой будут храниться имена всех столбцов, которые понадобятся далее и оставим только нужные столбцы в данных"
   ]
  },
  {
   "cell_type": "code",
   "execution_count": 4,
   "id": "ce9632da",
   "metadata": {
    "id": "ce9632da"
   },
   "outputs": [],
   "source": [
    "req_columns <- c(\"hhidpn\", \"index_wave\", \"cesd\", \"hacohort\", \"racohbyr\", \"rmstat\", \"ragender\", \"ragey_b\",\n",
    "                \"riearn\", \"ripena\", \"rlbrf\", \"retired\", \"collegeplus\", \"year\", \"rgov\", \"raedyrs\", \"siearn\", \"sipena\", \"sgov\", \"proxy\")"
   ]
  },
  {
   "cell_type": "code",
   "execution_count": 5,
   "id": "d0295689",
   "metadata": {
    "id": "d0295689"
   },
   "outputs": [
    {
     "ename": "ERROR",
     "evalue": "Error in df[, req_columns]: объект типа 'closure' не делится на подгруппы\n",
     "output_type": "error",
     "traceback": [
      "Error in df[, req_columns]: объект типа 'closure' не делится на подгруппы\nTraceback:\n"
     ]
    }
   ],
   "source": [
    "df <- df[, req_columns]"
   ]
  },
  {
   "cell_type": "markdown",
   "id": "06668504",
   "metadata": {
    "id": "06668504"
   },
   "source": [
    "теперь посмотрим на то, сколько NaN-ов в каких ячейках"
   ]
  },
  {
   "cell_type": "code",
   "execution_count": 6,
   "id": "ca66b662",
   "metadata": {
    "colab": {
     "base_uri": "https://localhost:8080/"
    },
    "id": "ca66b662",
    "outputId": "c89c624e-a56a-4859-93fe-b020ea7b4108"
   },
   "outputs": [
    {
     "name": "stderr",
     "output_type": "stream",
     "text": [
      "Warning message in is.na(df):\n",
      "\"is.na() применен к не-списку/вектору типа 'closure'\"\n"
     ]
    },
    {
     "ename": "ERROR",
     "evalue": "Error in colSums(is.na(df)): 'x' должен быть матрицей по крайней мере с двумя измерениями\n",
     "output_type": "error",
     "traceback": [
      "Error in colSums(is.na(df)): 'x' должен быть матрицей по крайней мере с двумя измерениями\nTraceback:\n",
      "1. print(colSums(is.na(df)))",
      "2. colSums(is.na(df))",
      "3. stop(\"'x' must be an array of at least two dimensions\")"
     ]
    }
   ],
   "source": [
    "print(colSums(is.na(df)))"
   ]
  },
  {
   "cell_type": "code",
   "execution_count": 7,
   "id": "dt5ZGBwom4mN",
   "metadata": {
    "id": "dt5ZGBwom4mN"
   },
   "outputs": [
    {
     "ename": "ERROR",
     "evalue": "Error in library(ggplot2): нет пакета под названием 'ggplot2'\n",
     "output_type": "error",
     "traceback": [
      "Error in library(ggplot2): нет пакета под названием 'ggplot2'\nTraceback:\n",
      "1. library(ggplot2)"
     ]
    }
   ],
   "source": [
    "install.packages(\"ggplot2\")\n",
    "library(ggplot2)"
   ]
  },
  {
   "cell_type": "markdown",
   "id": "1c6c9382",
   "metadata": {
    "id": "1c6c9382"
   },
   "source": [
    "Видим, что у cesd много пустых значений. Посмотрим, в какие волны их много"
   ]
  },
  {
   "cell_type": "markdown",
   "id": "e8a883e6",
   "metadata": {
    "id": "e8a883e6"
   },
   "source": [
    "Для этого загрузим библиотеку dplyr"
   ]
  },
  {
   "cell_type": "code",
   "execution_count": 12,
   "id": "8c112f25",
   "metadata": {
    "id": "8c112f25"
   },
   "outputs": [
    {
     "name": "stderr",
     "output_type": "stream",
     "text": [
      "Устанавливаю пакет в 'C:/Users/Emil/AppData/Local/R/win-library/4.3'\n",
      "(потому что 'lib' не определено)\n",
      "\n",
      "устанавливаю также зависимости 'generics', 'tidyselect'\n",
      "\n",
      "\n"
     ]
    },
    {
     "name": "stdout",
     "output_type": "stream",
     "text": [
      "пакет 'generics' успешно распакован, MD5-суммы проверены\n",
      "пакет 'tidyselect' успешно распакован, MD5-суммы проверены\n",
      "пакет 'dplyr' успешно распакован, MD5-суммы проверены\n",
      "\n",
      "Скачанные бинарные пакеты находятся в\n",
      "\tC:\\Users\\Emil\\AppData\\Local\\Temp\\Rtmpsz7Xjt\\downloaded_packages\n"
     ]
    },
    {
     "name": "stderr",
     "output_type": "stream",
     "text": [
      "\n",
      "Присоединяю пакет: 'dplyr'\n",
      "\n",
      "\n",
      "Следующие объекты скрыты от 'package:stats':\n",
      "\n",
      "    filter, lag\n",
      "\n",
      "\n",
      "Следующие объекты скрыты от 'package:base':\n",
      "\n",
      "    intersect, setdiff, setequal, union\n",
      "\n",
      "\n"
     ]
    }
   ],
   "source": [
    "install.packages(\"dplyr\")\n",
    "library(dplyr)"
   ]
  },
  {
   "cell_type": "markdown",
   "id": "e5365201",
   "metadata": {
    "id": "e5365201"
   },
   "source": [
    "и выведем"
   ]
  },
  {
   "cell_type": "code",
   "execution_count": 9,
   "id": "a71e1563",
   "metadata": {
    "colab": {
     "base_uri": "https://localhost:8080/",
     "height": 443
    },
    "id": "a71e1563",
    "outputId": "e5c8fe33-4afd-42a5-99ee-656358b67438"
   },
   "outputs": [
    {
     "ename": "ERROR",
     "evalue": "Error in df %>% group_by(index_wave) %>% summarise(CESD_NA_count = sum(is.na(cesd)), : не могу найти функцию \"%>%\"\n",
     "output_type": "error",
     "traceback": [
      "Error in df %>% group_by(index_wave) %>% summarise(CESD_NA_count = sum(is.na(cesd)), : не могу найти функцию \"%>%\"\nTraceback:\n"
     ]
    }
   ],
   "source": [
    "df %>%\n",
    "    group_by(index_wave) %>%\n",
    "    summarise(CESD_NA_count = sum(is.na(cesd)),\n",
    "             count = n(),\n",
    "             fraq = sum(is.na(cesd)) / n())"
   ]
  },
  {
   "cell_type": "code",
   "execution_count": 10,
   "id": "DdhrJQ-Qp6PG",
   "metadata": {
    "colab": {
     "base_uri": "https://localhost:8080/",
     "height": 443
    },
    "id": "DdhrJQ-Qp6PG",
    "outputId": "0da0a5fe-34d1-41fc-ca18-c221e536a3cb"
   },
   "outputs": [
    {
     "ename": "ERROR",
     "evalue": "Error in df %>% group_by(index_wave) %>% summarise(a = sum(is.na(cesd) & : не могу найти функцию \"%>%\"\n",
     "output_type": "error",
     "traceback": [
      "Error in df %>% group_by(index_wave) %>% summarise(a = sum(is.na(cesd) & : не могу найти функцию \"%>%\"\nTraceback:\n"
     ]
    }
   ],
   "source": [
    "df %>%\n",
    "  group_by(index_wave) %>%\n",
    "  summarise(a = sum(is.na(cesd) & (ragender == 1)) / sum((ragender == 1)),\n",
    "            b = sum(is.na(cesd) & (ragender == 2)) / sum((ragender == 2)),\n",
    "            c = a / b)\n",
    "# 1 - М, 2 - Ж"
   ]
  },
  {
   "cell_type": "code",
   "execution_count": null,
   "id": "Z71wX_4Ge3FL",
   "metadata": {
    "id": "Z71wX_4Ge3FL"
   },
   "outputs": [],
   "source": [
    "df2 <- df\n",
    "df2$depres_is_nan <- is.na(df$cesd)\n",
    "df2 <- subset(df2, select=-c(cesd))"
   ]
  },
  {
   "cell_type": "markdown",
   "id": "592295da",
   "metadata": {
    "id": "592295da"
   },
   "source": [
    "удалим все пропуски в данных. Для этого импортируем библиотеку tidyr"
   ]
  },
  {
   "cell_type": "code",
   "execution_count": null,
   "id": "0a103470",
   "metadata": {
    "id": "0a103470"
   },
   "outputs": [],
   "source": [
    "library(\"tidyr\")"
   ]
  },
  {
   "cell_type": "code",
   "execution_count": null,
   "id": "GctoJIeWfEHi",
   "metadata": {
    "colab": {
     "base_uri": "https://localhost:8080/",
     "height": 86
    },
    "id": "GctoJIeWfEHi",
    "outputId": "6d6f6ef6-7c2c-487e-f079-3f3ab361e0e0"
   },
   "outputs": [
    {
     "data": {
      "text/plain": [
       "       \n",
       "            1     2\n",
       "  FALSE 46928 70307\n",
       "  TRUE  25859 27667"
      ]
     },
     "metadata": {},
     "output_type": "display_data"
    }
   ],
   "source": [
    "table(df2$depres_is_nan, df2$ragender)"
   ]
  },
  {
   "cell_type": "code",
   "execution_count": null,
   "id": "2K1Nby7DlJfW",
   "metadata": {
    "colab": {
     "base_uri": "https://localhost:8080/",
     "height": 86
    },
    "id": "2K1Nby7DlJfW",
    "outputId": "dd9cce65-4839-411b-dead-b27754e708ea"
   },
   "outputs": [
    {
     "data": {
      "text/plain": [
       "       \n",
       "                1         2\n",
       "  FALSE 0.2748168 0.4117275\n",
       "  TRUE  0.1514339 0.1620218"
      ]
     },
     "metadata": {},
     "output_type": "display_data"
    }
   ],
   "source": [
    "table(df2$depres_is_nan, df2$ragender) / length(df2$ragender)"
   ]
  },
  {
   "cell_type": "code",
   "execution_count": null,
   "id": "IUU3HxlkfCEI",
   "metadata": {
    "colab": {
     "base_uri": "https://localhost:8080/"
    },
    "id": "IUU3HxlkfCEI",
    "outputId": "d043f8ef-6ef4-4097-963c-04600aec7161"
   },
   "outputs": [
    {
     "name": "stderr",
     "output_type": "stream",
     "text": [
      "Installing package into ‘/usr/local/lib/R/site-library’\n",
      "(as ‘lib’ is unspecified)\n",
      "\n",
      "also installing the dependency ‘plyr’\n",
      "\n",
      "\n",
      "Type 'citation(\"pROC\")' for a citation.\n",
      "\n",
      "\n",
      "Attaching package: ‘pROC’\n",
      "\n",
      "\n",
      "The following objects are masked from ‘package:stats’:\n",
      "\n",
      "    cov, smooth, var\n",
      "\n",
      "\n"
     ]
    }
   ],
   "source": [
    "#install.packages(\"pROC\")\n",
    "library(pROC)\n",
    "\n",
    "auc_roc <- function(fit) {\n",
    "  return(roc(fit$y, fit$fitted.values))\n",
    "}"
   ]
  },
  {
   "cell_type": "code",
   "execution_count": null,
   "id": "eNWOcKpafnw0",
   "metadata": {
    "colab": {
     "base_uri": "https://localhost:8080/",
     "height": 191
    },
    "id": "eNWOcKpafnw0",
    "outputId": "368aa410-4ee6-4900-ddf9-71cc3670f37e"
   },
   "outputs": [
    {
     "name": "stderr",
     "output_type": "stream",
     "text": [
      "Setting levels: control = 0, case = 1\n",
      "\n",
      "Setting direction: controls < cases\n",
      "\n"
     ]
    },
    {
     "data": {
      "text/plain": [
       "\n",
       "Call:\n",
       "roc.default(response = fit$y, predictor = fit$fitted.values)\n",
       "\n",
       "Data: fit$fitted.values in 117126 controls (fit$y 0) < 7605 cases (fit$y 1).\n",
       "Area under the curve: 0.7022"
      ]
     },
     "metadata": {},
     "output_type": "display_data"
    }
   ],
   "source": [
    "auc_roc(glm(depres_is_nan ~ family_problems + pension + disabled + unemployed + college + ragender + log_income, data=df2, family=\"binomial\"))"
   ]
  },
  {
   "cell_type": "code",
   "execution_count": null,
   "id": "H1MtkMlbft3z",
   "metadata": {
    "colab": {
     "base_uri": "https://localhost:8080/",
     "height": 191
    },
    "id": "H1MtkMlbft3z",
    "outputId": "1553af0d-b4ae-44ff-a585-49ab10618813"
   },
   "outputs": [
    {
     "name": "stderr",
     "output_type": "stream",
     "text": [
      "Setting levels: control = 0, case = 1\n",
      "\n",
      "Setting direction: controls < cases\n",
      "\n"
     ]
    },
    {
     "data": {
      "text/plain": [
       "\n",
       "Call:\n",
       "roc.default(response = fit$y, predictor = fit$fitted.values)\n",
       "\n",
       "Data: fit$fitted.values in 117126 controls (fit$y 0) < 7605 cases (fit$y 1).\n",
       "Area under the curve: 0.6518"
      ]
     },
     "metadata": {},
     "output_type": "display_data"
    }
   ],
   "source": [
    "auc_roc(glm(depres_is_nan ~  ragender, data=df2, family=\"binomial\"))"
   ]
  },
  {
   "cell_type": "code",
   "execution_count": null,
   "id": "8u_7FhaUe-4X",
   "metadata": {
    "id": "8u_7FhaUe-4X"
   },
   "outputs": [],
   "source": [
    "df2$family_problems <- as.factor(ifelse(df2$rmstat %in% c(1, 8), 0, 1))\n",
    "df2$pension <- as.factor(df2$retired / 100)\n",
    "df2$disabled <- as.factor(ifelse(df2$rlbrf == 6, 1, 0))\n",
    "df2$unemployed <- as.factor(ifelse(df2$rlbrf %in% c(3, 7), 1, 0))\n",
    "df2$college <- as.factor(df2$collegeplus)\n",
    "df2$ragender <- as.factor(df2$ragender)\n",
    "df2$sum = df2$riearn + df2$ripena + df2$rgov + df2$siearn + df2$sipena + df2$sgov + 1\n",
    "df2$log_income <- log(df2$sum)\n",
    "df2$log_income2 <- df2$log_income ** 2\n",
    "df2$age_2 <- df2$ragey_b ** 2"
   ]
  },
  {
   "cell_type": "code",
   "execution_count": null,
   "id": "0f204d74",
   "metadata": {
    "id": "0f204d74"
   },
   "outputs": [],
   "source": [
    "df <- df %>% drop_na()"
   ]
  },
  {
   "cell_type": "code",
   "execution_count": null,
   "id": "zNCSLzWfo76z",
   "metadata": {
    "colab": {
     "base_uri": "https://localhost:8080/",
     "height": 1000
    },
    "id": "zNCSLzWfo76z",
    "outputId": "034d009e-b1c1-40af-d24c-bd59c7da74b0"
   },
   "outputs": [
    {
     "data": {
      "text/html": [
       "<table class=\"dataframe\">\n",
       "<caption>A data.frame: 28307 × 20</caption>\n",
       "<thead>\n",
       "\t<tr><th></th><th scope=col>hhidpn</th><th scope=col>index_wave</th><th scope=col>hacohort</th><th scope=col>racohbyr</th><th scope=col>rmstat</th><th scope=col>ragender</th><th scope=col>ragey_b</th><th scope=col>riearn</th><th scope=col>ripena</th><th scope=col>rlbrf</th><th scope=col>retired</th><th scope=col>collegeplus</th><th scope=col>year</th><th scope=col>rgov</th><th scope=col>raedyrs</th><th scope=col>siearn</th><th scope=col>sipena</th><th scope=col>sgov</th><th scope=col>proxy</th><th scope=col>depres_is_nan</th></tr>\n",
       "\t<tr><th></th><th scope=col>&lt;int&gt;</th><th scope=col>&lt;int&gt;</th><th scope=col>&lt;int&gt;</th><th scope=col>&lt;dbl&gt;</th><th scope=col>&lt;int&gt;</th><th scope=col>&lt;int&gt;</th><th scope=col>&lt;int&gt;</th><th scope=col>&lt;dbl&gt;</th><th scope=col>&lt;dbl&gt;</th><th scope=col>&lt;int&gt;</th><th scope=col>&lt;int&gt;</th><th scope=col>&lt;int&gt;</th><th scope=col>&lt;int&gt;</th><th scope=col>&lt;dbl&gt;</th><th scope=col>&lt;dbl&gt;</th><th scope=col>&lt;dbl&gt;</th><th scope=col>&lt;dbl&gt;</th><th scope=col>&lt;dbl&gt;</th><th scope=col>&lt;dbl&gt;</th><th scope=col>&lt;lgl&gt;</th></tr>\n",
       "</thead>\n",
       "<tbody>\n",
       "\t<tr><th scope=row>1</th><td>10001010</td><td>1</td><td>3</td><td>3</td><td>8</td><td>1</td><td>53</td><td>     0.000</td><td>    0.000</td><td>3</td><td>  0</td><td>0</td><td>1991</td><td>    0.000</td><td>12</td><td>     0.00</td><td>    0.00</td><td>   0.000</td><td>0</td><td>FALSE</td></tr>\n",
       "\t<tr><th scope=row>12</th><td>10003020</td><td>1</td><td>3</td><td>3</td><td>1</td><td>1</td><td>58</td><td> 71295.462</td><td>    0.000</td><td>1</td><td>  0</td><td>1</td><td>1991</td><td>    0.000</td><td>16</td><td> 26561.05</td><td>    0.00</td><td>   0.000</td><td>1</td><td>FALSE</td></tr>\n",
       "\t<tr><th scope=row>16</th><td>10004010</td><td>1</td><td>3</td><td>3</td><td>1</td><td>1</td><td>52</td><td>     0.000</td><td>51724.159</td><td>5</td><td>100</td><td>1</td><td>1991</td><td> 4193.851</td><td>16</td><td> 90866.77</td><td>    0.00</td><td>   0.000</td><td>0</td><td>FALSE</td></tr>\n",
       "\t<tr><th scope=row>26</th><td>10004040</td><td>1</td><td>3</td><td>4</td><td>1</td><td>2</td><td>46</td><td> 90866.765</td><td>    0.000</td><td>1</td><td>  0</td><td>0</td><td>1991</td><td>    0.000</td><td>12</td><td>     0.00</td><td>51724.16</td><td>4193.851</td><td>0</td><td>FALSE</td></tr>\n",
       "\t<tr><th scope=row>37</th><td>10013010</td><td>1</td><td>3</td><td>3</td><td>1</td><td>1</td><td>54</td><td> 38443.632</td><td>    0.000</td><td>1</td><td>  0</td><td>0</td><td>1991</td><td>    0.000</td><td>12</td><td> 38443.63</td><td>    0.00</td><td>   0.000</td><td>0</td><td>FALSE</td></tr>\n",
       "\t<tr><th scope=row>47</th><td>10013040</td><td>1</td><td>3</td><td>4</td><td>1</td><td>2</td><td>44</td><td> 38443.632</td><td>    0.000</td><td>1</td><td>  0</td><td>0</td><td>1991</td><td>    0.000</td><td>13</td><td> 38443.63</td><td>    0.00</td><td>   0.000</td><td>0</td><td>FALSE</td></tr>\n",
       "\t<tr><th scope=row>58</th><td>10038010</td><td>1</td><td>3</td><td>3</td><td>1</td><td>1</td><td>56</td><td>     0.000</td><td>    0.000</td><td>1</td><td>  0</td><td>1</td><td>1992</td><td>    0.000</td><td>16</td><td> 68178.43</td><td>    0.00</td><td>   0.000</td><td>0</td><td>FALSE</td></tr>\n",
       "\t<tr><th scope=row>69</th><td>10038040</td><td>1</td><td>3</td><td>4</td><td>1</td><td>2</td><td>49</td><td> 69897.512</td><td>    0.000</td><td>1</td><td>  0</td><td>1</td><td>1991</td><td>    0.000</td><td>16</td><td>     0.00</td><td>    0.00</td><td>   0.000</td><td>0</td><td>FALSE</td></tr>\n",
       "\t<tr><th scope=row>80</th><td>10050010</td><td>1</td><td>3</td><td>3</td><td>7</td><td>2</td><td>50</td><td> 71015.872</td><td>    0.000</td><td>1</td><td>  0</td><td>1</td><td>1991</td><td>    0.000</td><td>17</td><td>     0.00</td><td>    0.00</td><td>   0.000</td><td>0</td><td>FALSE</td></tr>\n",
       "\t<tr><th scope=row>91</th><td>10059020</td><td>1</td><td>3</td><td>3</td><td>1</td><td>2</td><td>57</td><td>     0.000</td><td>    0.000</td><td>7</td><td>  0</td><td>1</td><td>1992</td><td>    0.000</td><td>16</td><td> 10908.55</td><td>    0.00</td><td>   0.000</td><td>0</td><td>FALSE</td></tr>\n",
       "\t<tr><th scope=row>102</th><td>10059030</td><td>1</td><td>3</td><td>2</td><td>1</td><td>1</td><td>64</td><td> 10908.549</td><td>    0.000</td><td>1</td><td>  0</td><td>1</td><td>1992</td><td>    0.000</td><td>17</td><td>     0.00</td><td>    0.00</td><td>   0.000</td><td>1</td><td>FALSE</td></tr>\n",
       "\t<tr><th scope=row>113</th><td>10063010</td><td>1</td><td>3</td><td>3</td><td>4</td><td>2</td><td>54</td><td>     0.000</td><td>    0.000</td><td>3</td><td>  0</td><td>0</td><td>1991</td><td> 3830.383</td><td> 9</td><td>     0.00</td><td>    0.00</td><td>   0.000</td><td>0</td><td>FALSE</td></tr>\n",
       "\t<tr><th scope=row>120</th><td>10075020</td><td>1</td><td>3</td><td>3</td><td>1</td><td>2</td><td>55</td><td>     0.000</td><td>    0.000</td><td>4</td><td>  0</td><td>0</td><td>1991</td><td>    0.000</td><td> 8</td><td>     0.00</td><td>    0.00</td><td>   0.000</td><td>0</td><td>FALSE</td></tr>\n",
       "\t<tr><th scope=row>137</th><td>10094010</td><td>1</td><td>3</td><td>3</td><td>7</td><td>2</td><td>58</td><td> 20969.254</td><td>    0.000</td><td>2</td><td>  0</td><td>0</td><td>1991</td><td>    0.000</td><td>12</td><td>     0.00</td><td>    0.00</td><td>   0.000</td><td>0</td><td>FALSE</td></tr>\n",
       "\t<tr><th scope=row>138</th><td>10097010</td><td>1</td><td>3</td><td>3</td><td>1</td><td>1</td><td>53</td><td>346346.429</td><td>    0.000</td><td>1</td><td>  0</td><td>0</td><td>1992</td><td>    0.000</td><td>12</td><td>     0.00</td><td>    0.00</td><td>   0.000</td><td>0</td><td>FALSE</td></tr>\n",
       "\t<tr><th scope=row>140</th><td>10099010</td><td>1</td><td>3</td><td>3</td><td>7</td><td>2</td><td>59</td><td>  6989.751</td><td> 8387.701</td><td>4</td><td>  0</td><td>0</td><td>1991</td><td> 8387.701</td><td>12</td><td>     0.00</td><td>    0.00</td><td>   0.000</td><td>0</td><td>FALSE</td></tr>\n",
       "\t<tr><th scope=row>147</th><td>10106010</td><td>1</td><td>3</td><td>3</td><td>1</td><td>1</td><td>61</td><td>     0.000</td><td>34948.756</td><td>5</td><td>100</td><td>1</td><td>1991</td><td>    0.000</td><td>17</td><td>     0.00</td><td>    0.00</td><td>   0.000</td><td>0</td><td>FALSE</td></tr>\n",
       "\t<tr><th scope=row>154</th><td>10109020</td><td>1</td><td>3</td><td>3</td><td>1</td><td>2</td><td>54</td><td>111836.019</td><td>    0.000</td><td>2</td><td>  0</td><td>1</td><td>1991</td><td>    0.000</td><td>17</td><td>167754.03</td><td>    0.00</td><td>   0.000</td><td>0</td><td>FALSE</td></tr>\n",
       "\t<tr><th scope=row>155</th><td>10109030</td><td>1</td><td>3</td><td>2</td><td>1</td><td>1</td><td>63</td><td>167754.029</td><td>    0.000</td><td>1</td><td>  0</td><td>1</td><td>1991</td><td>    0.000</td><td>17</td><td>111836.02</td><td>    0.00</td><td>   0.000</td><td>0</td><td>FALSE</td></tr>\n",
       "\t<tr><th scope=row>165</th><td>10124010</td><td>1</td><td>3</td><td>3</td><td>4</td><td>2</td><td>59</td><td>     0.000</td><td>16356.018</td><td>5</td><td>100</td><td>1</td><td>1991</td><td>    0.000</td><td>17</td><td>     0.00</td><td>    0.00</td><td>   0.000</td><td>0</td><td>FALSE</td></tr>\n",
       "\t<tr><th scope=row>172</th><td>10147010</td><td>1</td><td>3</td><td>3</td><td>5</td><td>2</td><td>60</td><td>     0.000</td><td>    0.000</td><td>6</td><td>  0</td><td>0</td><td>1991</td><td> 5871.391</td><td> 8</td><td>     0.00</td><td>    0.00</td><td>   0.000</td><td>0</td><td>FALSE</td></tr>\n",
       "\t<tr><th scope=row>183</th><td>10155010</td><td>1</td><td>3</td><td>3</td><td>5</td><td>2</td><td>53</td><td> 27959.005</td><td>    0.000</td><td>1</td><td>  0</td><td>0</td><td>1991</td><td>16775.402</td><td> 7</td><td>     0.00</td><td>    0.00</td><td>   0.000</td><td>0</td><td>FALSE</td></tr>\n",
       "\t<tr><th scope=row>187</th><td>10206010</td><td>1</td><td>3</td><td>3</td><td>5</td><td>2</td><td>55</td><td>     0.000</td><td>    0.000</td><td>5</td><td>100</td><td>0</td><td>1991</td><td> 7171.485</td><td>12</td><td>     0.00</td><td>    0.00</td><td>   0.000</td><td>0</td><td>FALSE</td></tr>\n",
       "\t<tr><th scope=row>198</th><td>10210020</td><td>1</td><td>3</td><td>3</td><td>1</td><td>1</td><td>53</td><td> 15377.453</td><td>    0.000</td><td>3</td><td>  0</td><td>0</td><td>1991</td><td>    0.000</td><td> 6</td><td> 13280.53</td><td>    0.00</td><td>   0.000</td><td>0</td><td>FALSE</td></tr>\n",
       "\t<tr><th scope=row>209</th><td>10217010</td><td>1</td><td>3</td><td>3</td><td>7</td><td>2</td><td>60</td><td>     0.000</td><td>    0.000</td><td>5</td><td>100</td><td>0</td><td>1992</td><td> 5497.909</td><td> 4</td><td>     0.00</td><td>    0.00</td><td>   0.000</td><td>0</td><td>FALSE</td></tr>\n",
       "\t<tr><th scope=row>211</th><td>10225010</td><td>1</td><td>3</td><td>3</td><td>8</td><td>2</td><td>57</td><td> 34948.756</td><td>    0.000</td><td>1</td><td>  0</td><td>0</td><td>1991</td><td>    0.000</td><td> 8</td><td>     0.00</td><td>    0.00</td><td>   0.000</td><td>0</td><td>FALSE</td></tr>\n",
       "\t<tr><th scope=row>222</th><td>10237020</td><td>1</td><td>3</td><td>3</td><td>1</td><td>1</td><td>52</td><td> 34089.215</td><td>    0.000</td><td>1</td><td>  0</td><td>0</td><td>1992</td><td>    0.000</td><td>14</td><td> 34089.22</td><td>    0.00</td><td>   0.000</td><td>0</td><td>FALSE</td></tr>\n",
       "\t<tr><th scope=row>223</th><td>10237030</td><td>1</td><td>3</td><td>4</td><td>1</td><td>2</td><td>50</td><td> 34089.215</td><td>    0.000</td><td>1</td><td>  0</td><td>1</td><td>1992</td><td>    0.000</td><td>17</td><td> 34089.22</td><td>    0.00</td><td>   0.000</td><td>0</td><td>FALSE</td></tr>\n",
       "\t<tr><th scope=row>225</th><td>10257010</td><td>1</td><td>3</td><td>3</td><td>7</td><td>2</td><td>56</td><td> 36346.706</td><td>    0.000</td><td>5</td><td>100</td><td>0</td><td>1991</td><td>    0.000</td><td>11</td><td>     0.00</td><td>    0.00</td><td>   0.000</td><td>0</td><td>FALSE</td></tr>\n",
       "\t<tr><th scope=row>226</th><td>10281010</td><td>1</td><td>3</td><td>3</td><td>2</td><td>2</td><td>54</td><td> 27959.005</td><td>    0.000</td><td>1</td><td>  0</td><td>0</td><td>1991</td><td>    0.000</td><td>12</td><td> 16775.40</td><td>    0.00</td><td>   0.000</td><td>0</td><td>FALSE</td></tr>\n",
       "\t<tr><th scope=row>⋮</th><td>⋮</td><td>⋮</td><td>⋮</td><td>⋮</td><td>⋮</td><td>⋮</td><td>⋮</td><td>⋮</td><td>⋮</td><td>⋮</td><td>⋮</td><td>⋮</td><td>⋮</td><td>⋮</td><td>⋮</td><td>⋮</td><td>⋮</td><td>⋮</td><td>⋮</td><td>⋮</td></tr>\n",
       "\t<tr><th scope=row>170501</th><td> 94741020</td><td>1</td><td>3</td><td>3</td><td>1</td><td>2</td><td>57</td><td>    0.000</td><td>    0.00</td><td>7</td><td>  0</td><td>0</td><td>1991</td><td>    0.000</td><td>14</td><td>    0.000</td><td>    0.00</td><td>    0.000</td><td> 0</td><td>FALSE</td></tr>\n",
       "\t<tr><th scope=row>170512</th><td> 94956010</td><td>1</td><td>3</td><td>3</td><td>1</td><td>1</td><td>53</td><td> 8387.701</td><td>    0.00</td><td>3</td><td>  0</td><td>0</td><td>1991</td><td> 1753.030</td><td> 5</td><td> 2236.720</td><td>    0.00</td><td> 1753.030</td><td> 0</td><td>FALSE</td></tr>\n",
       "\t<tr><th scope=row>170521</th><td> 94956040</td><td>1</td><td>3</td><td>4</td><td>1</td><td>2</td><td>45</td><td> 2236.720</td><td>    0.00</td><td>2</td><td>  0</td><td>0</td><td>1991</td><td> 1753.030</td><td>10</td><td> 8387.701</td><td>    0.00</td><td> 1753.030</td><td> 0</td><td>FALSE</td></tr>\n",
       "\t<tr><th scope=row>170532</th><td> 95033010</td><td>1</td><td>3</td><td>3</td><td>1</td><td>2</td><td>53</td><td>34089.215</td><td>    0.00</td><td>1</td><td>  0</td><td>0</td><td>1992</td><td>    0.000</td><td>12</td><td>68178.431</td><td>    0.00</td><td>    0.000</td><td> 0</td><td>FALSE</td></tr>\n",
       "\t<tr><th scope=row>170543</th><td> 95275010</td><td>1</td><td>3</td><td>3</td><td>1</td><td>1</td><td>58</td><td>    0.000</td><td>    0.00</td><td>1</td><td>  0</td><td>0</td><td>1991</td><td>    0.000</td><td>12</td><td>    0.000</td><td>    0.00</td><td>    0.000</td><td> 0</td><td>FALSE</td></tr>\n",
       "\t<tr><th scope=row>170554</th><td> 95275020</td><td>1</td><td>3</td><td>3</td><td>1</td><td>2</td><td>52</td><td>    0.000</td><td>    0.00</td><td>1</td><td>  0</td><td>0</td><td>1991</td><td>    0.000</td><td>12</td><td>    0.000</td><td>    0.00</td><td>    0.000</td><td> 0</td><td>FALSE</td></tr>\n",
       "\t<tr><th scope=row>170565</th><td>952836010</td><td>1</td><td>6</td><td>6</td><td>5</td><td>2</td><td>51</td><td>10746.063</td><td>    0.00</td><td>1</td><td>  0</td><td>0</td><td>2010</td><td>    0.000</td><td> 6</td><td>    0.000</td><td>    0.00</td><td>    0.000</td><td>NA</td><td> TRUE</td></tr>\n",
       "\t<tr><th scope=row>170567</th><td> 95306030</td><td>1</td><td>3</td><td>2</td><td>1</td><td>1</td><td>64</td><td>65451.294</td><td>    0.00</td><td>5</td><td>100</td><td>1</td><td>1992</td><td>    0.000</td><td>17</td><td>    0.000</td><td>    0.00</td><td>    0.000</td><td> 0</td><td>FALSE</td></tr>\n",
       "\t<tr><th scope=row>170578</th><td> 95650010</td><td>1</td><td>3</td><td>3</td><td>1</td><td>1</td><td>52</td><td>53821.084</td><td>    0.00</td><td>1</td><td>  0</td><td>1</td><td>1991</td><td>    0.000</td><td>14</td><td>19571.303</td><td>    0.00</td><td>    0.000</td><td> 0</td><td>FALSE</td></tr>\n",
       "\t<tr><th scope=row>170593</th><td> 95650040</td><td>1</td><td>3</td><td>4</td><td>1</td><td>2</td><td>50</td><td>19571.303</td><td>    0.00</td><td>1</td><td>  0</td><td>1</td><td>1991</td><td>    0.000</td><td>17</td><td>53821.084</td><td>    0.00</td><td>    0.000</td><td> 0</td><td>FALSE</td></tr>\n",
       "\t<tr><th scope=row>170604</th><td>958361010</td><td>1</td><td>6</td><td>0</td><td>4</td><td>1</td><td>46</td><td>    0.000</td><td>    0.00</td><td>2</td><td>  0</td><td>0</td><td>2009</td><td>21845.441</td><td>11</td><td>    0.000</td><td>    0.00</td><td>    0.000</td><td>NA</td><td> TRUE</td></tr>\n",
       "\t<tr><th scope=row>170606</th><td> 95905010</td><td>1</td><td>3</td><td>3</td><td>1</td><td>2</td><td>60</td><td>41938.507</td><td>    0.00</td><td>5</td><td>100</td><td>1</td><td>1991</td><td>    0.000</td><td>14</td><td>    0.000</td><td>    0.00</td><td>34948.758</td><td> 0</td><td>FALSE</td></tr>\n",
       "\t<tr><th scope=row>170607</th><td> 95905040</td><td>1</td><td>3</td><td>2</td><td>1</td><td>1</td><td>62</td><td>    0.000</td><td>    0.00</td><td>5</td><td>100</td><td>0</td><td>1991</td><td>34948.758</td><td>12</td><td>41938.507</td><td>    0.00</td><td>    0.000</td><td> 1</td><td>FALSE</td></tr>\n",
       "\t<tr><th scope=row>170608</th><td>959733010</td><td>1</td><td>6</td><td>0</td><td>8</td><td>1</td><td>49</td><td>    0.000</td><td>    0.00</td><td>5</td><td>100</td><td>0</td><td>2009</td><td> 7645.905</td><td>16</td><td>    0.000</td><td>    0.00</td><td>    0.000</td><td>NA</td><td> TRUE</td></tr>\n",
       "\t<tr><th scope=row>170611</th><td> 96075010</td><td>1</td><td>3</td><td>3</td><td>4</td><td>2</td><td>51</td><td>26561.055</td><td>    0.00</td><td>1</td><td>  0</td><td>0</td><td>1991</td><td>    0.000</td><td> 7</td><td>    0.000</td><td>    0.00</td><td>    0.000</td><td> 0</td><td>FALSE</td></tr>\n",
       "\t<tr><th scope=row>170622</th><td> 96126010</td><td>1</td><td>3</td><td>3</td><td>1</td><td>1</td><td>53</td><td>27271.372</td><td>    0.00</td><td>1</td><td>  0</td><td>0</td><td>1992</td><td>    0.000</td><td>13</td><td>29998.510</td><td>    0.00</td><td>    0.000</td><td> 0</td><td>FALSE</td></tr>\n",
       "\t<tr><th scope=row>170633</th><td> 96126040</td><td>1</td><td>3</td><td>4</td><td>1</td><td>2</td><td>45</td><td>29998.510</td><td>    0.00</td><td>1</td><td>  0</td><td>1</td><td>1992</td><td>    0.000</td><td>17</td><td>27271.372</td><td>    0.00</td><td>    0.000</td><td> 0</td><td>FALSE</td></tr>\n",
       "\t<tr><th scope=row>170644</th><td> 96578010</td><td>1</td><td>3</td><td>3</td><td>1</td><td>1</td><td>52</td><td>35452.784</td><td>    0.00</td><td>1</td><td>  0</td><td>0</td><td>1992</td><td>    0.000</td><td>14</td><td>50452.039</td><td>    0.00</td><td>    0.000</td><td> 0</td><td>FALSE</td></tr>\n",
       "\t<tr><th scope=row>170655</th><td> 97325010</td><td>1</td><td>3</td><td>3</td><td>5</td><td>1</td><td>58</td><td>57315.960</td><td>    0.00</td><td>1</td><td>  0</td><td>0</td><td>1991</td><td>    0.000</td><td>12</td><td>    0.000</td><td>    0.00</td><td>    0.000</td><td> 0</td><td>FALSE</td></tr>\n",
       "\t<tr><th scope=row>170656</th><td> 97589010</td><td>1</td><td>3</td><td>3</td><td>1</td><td>1</td><td>58</td><td>16775.403</td><td>    0.00</td><td>3</td><td>  0</td><td>0</td><td>1991</td><td>    0.000</td><td>15</td><td> 2935.696</td><td>    0.00</td><td>    0.000</td><td> 0</td><td>FALSE</td></tr>\n",
       "\t<tr><th scope=row>170661</th><td> 97589020</td><td>1</td><td>3</td><td>3</td><td>1</td><td>2</td><td>52</td><td> 2935.696</td><td>    0.00</td><td>7</td><td>  0</td><td>0</td><td>1991</td><td>    0.000</td><td>13</td><td>16775.403</td><td>    0.00</td><td>    0.000</td><td> 0</td><td>FALSE</td></tr>\n",
       "\t<tr><th scope=row>170671</th><td> 98001010</td><td>1</td><td>3</td><td>3</td><td>5</td><td>2</td><td>51</td><td>40540.557</td><td>    0.00</td><td>1</td><td>  0</td><td>1</td><td>1991</td><td>    0.000</td><td>17</td><td>    0.000</td><td>    0.00</td><td>    0.000</td><td> 0</td><td>FALSE</td></tr>\n",
       "\t<tr><th scope=row>170682</th><td> 98097020</td><td>1</td><td>3</td><td>3</td><td>1</td><td>2</td><td>60</td><td>    0.000</td><td>    0.00</td><td>7</td><td>  0</td><td>0</td><td>1992</td><td>    0.000</td><td>12</td><td>81814.117</td><td>24544.24</td><td>    0.000</td><td> 0</td><td>FALSE</td></tr>\n",
       "\t<tr><th scope=row>170693</th><td> 98097030</td><td>1</td><td>3</td><td>2</td><td>1</td><td>1</td><td>64</td><td>81814.117</td><td>24544.24</td><td>1</td><td>  0</td><td>0</td><td>1992</td><td>    0.000</td><td>12</td><td>    0.000</td><td>    0.00</td><td>    0.000</td><td> 0</td><td>FALSE</td></tr>\n",
       "\t<tr><th scope=row>170704</th><td> 98121010</td><td>1</td><td>3</td><td>3</td><td>5</td><td>1</td><td>58</td><td>    0.000</td><td>    0.00</td><td>2</td><td>  0</td><td>0</td><td>1991</td><td>    0.000</td><td> 8</td><td>    0.000</td><td>    0.00</td><td>    0.000</td><td> 0</td><td>FALSE</td></tr>\n",
       "\t<tr><th scope=row>170713</th><td> 98802010</td><td>1</td><td>3</td><td>3</td><td>1</td><td>1</td><td>60</td><td>47530.308</td><td>    0.00</td><td>1</td><td>  0</td><td>0</td><td>1991</td><td>    0.000</td><td> 5</td><td>    0.000</td><td>    0.00</td><td> 2096.925</td><td> 0</td><td>FALSE</td></tr>\n",
       "\t<tr><th scope=row>170724</th><td> 98802040</td><td>1</td><td>3</td><td>2</td><td>1</td><td>2</td><td>65</td><td>    0.000</td><td>    0.00</td><td>5</td><td>100</td><td>0</td><td>1991</td><td> 2096.925</td><td> 5</td><td>47530.308</td><td>    0.00</td><td>    0.000</td><td> 0</td><td>FALSE</td></tr>\n",
       "\t<tr><th scope=row>170735</th><td> 99231010</td><td>1</td><td>3</td><td>3</td><td>4</td><td>1</td><td>52</td><td>61906.015</td><td>    0.00</td><td>1</td><td>  0</td><td>0</td><td>1992</td><td>    0.000</td><td>14</td><td>    0.000</td><td>    0.00</td><td>    0.000</td><td> 0</td><td>FALSE</td></tr>\n",
       "\t<tr><th scope=row>170748</th><td> 99564010</td><td>1</td><td>3</td><td>3</td><td>5</td><td>2</td><td>58</td><td>46132.358</td><td>    0.00</td><td>1</td><td>  0</td><td>0</td><td>1991</td><td>    0.000</td><td>12</td><td>    0.000</td><td>    0.00</td><td>    0.000</td><td> 0</td><td>FALSE</td></tr>\n",
       "\t<tr><th scope=row>170761</th><td> 99587010</td><td>1</td><td>3</td><td>3</td><td>7</td><td>2</td><td>54</td><td>    0.000</td><td>    0.00</td><td>5</td><td>100</td><td>0</td><td>1991</td><td>10484.627</td><td> 8</td><td>    0.000</td><td>    0.00</td><td>    0.000</td><td> 0</td><td>FALSE</td></tr>\n",
       "</tbody>\n",
       "</table>\n"
      ],
      "text/latex": [
       "A data.frame: 28307 × 20\n",
       "\\begin{tabular}{r|llllllllllllllllllll}\n",
       "  & hhidpn & index\\_wave & hacohort & racohbyr & rmstat & ragender & ragey\\_b & riearn & ripena & rlbrf & retired & collegeplus & year & rgov & raedyrs & siearn & sipena & sgov & proxy & depres\\_is\\_nan\\\\\n",
       "  & <int> & <int> & <int> & <dbl> & <int> & <int> & <int> & <dbl> & <dbl> & <int> & <int> & <int> & <int> & <dbl> & <dbl> & <dbl> & <dbl> & <dbl> & <dbl> & <lgl>\\\\\n",
       "\\hline\n",
       "\t1 & 10001010 & 1 & 3 & 3 & 8 & 1 & 53 &      0.000 &     0.000 & 3 &   0 & 0 & 1991 &     0.000 & 12 &      0.00 &     0.00 &    0.000 & 0 & FALSE\\\\\n",
       "\t12 & 10003020 & 1 & 3 & 3 & 1 & 1 & 58 &  71295.462 &     0.000 & 1 &   0 & 1 & 1991 &     0.000 & 16 &  26561.05 &     0.00 &    0.000 & 1 & FALSE\\\\\n",
       "\t16 & 10004010 & 1 & 3 & 3 & 1 & 1 & 52 &      0.000 & 51724.159 & 5 & 100 & 1 & 1991 &  4193.851 & 16 &  90866.77 &     0.00 &    0.000 & 0 & FALSE\\\\\n",
       "\t26 & 10004040 & 1 & 3 & 4 & 1 & 2 & 46 &  90866.765 &     0.000 & 1 &   0 & 0 & 1991 &     0.000 & 12 &      0.00 & 51724.16 & 4193.851 & 0 & FALSE\\\\\n",
       "\t37 & 10013010 & 1 & 3 & 3 & 1 & 1 & 54 &  38443.632 &     0.000 & 1 &   0 & 0 & 1991 &     0.000 & 12 &  38443.63 &     0.00 &    0.000 & 0 & FALSE\\\\\n",
       "\t47 & 10013040 & 1 & 3 & 4 & 1 & 2 & 44 &  38443.632 &     0.000 & 1 &   0 & 0 & 1991 &     0.000 & 13 &  38443.63 &     0.00 &    0.000 & 0 & FALSE\\\\\n",
       "\t58 & 10038010 & 1 & 3 & 3 & 1 & 1 & 56 &      0.000 &     0.000 & 1 &   0 & 1 & 1992 &     0.000 & 16 &  68178.43 &     0.00 &    0.000 & 0 & FALSE\\\\\n",
       "\t69 & 10038040 & 1 & 3 & 4 & 1 & 2 & 49 &  69897.512 &     0.000 & 1 &   0 & 1 & 1991 &     0.000 & 16 &      0.00 &     0.00 &    0.000 & 0 & FALSE\\\\\n",
       "\t80 & 10050010 & 1 & 3 & 3 & 7 & 2 & 50 &  71015.872 &     0.000 & 1 &   0 & 1 & 1991 &     0.000 & 17 &      0.00 &     0.00 &    0.000 & 0 & FALSE\\\\\n",
       "\t91 & 10059020 & 1 & 3 & 3 & 1 & 2 & 57 &      0.000 &     0.000 & 7 &   0 & 1 & 1992 &     0.000 & 16 &  10908.55 &     0.00 &    0.000 & 0 & FALSE\\\\\n",
       "\t102 & 10059030 & 1 & 3 & 2 & 1 & 1 & 64 &  10908.549 &     0.000 & 1 &   0 & 1 & 1992 &     0.000 & 17 &      0.00 &     0.00 &    0.000 & 1 & FALSE\\\\\n",
       "\t113 & 10063010 & 1 & 3 & 3 & 4 & 2 & 54 &      0.000 &     0.000 & 3 &   0 & 0 & 1991 &  3830.383 &  9 &      0.00 &     0.00 &    0.000 & 0 & FALSE\\\\\n",
       "\t120 & 10075020 & 1 & 3 & 3 & 1 & 2 & 55 &      0.000 &     0.000 & 4 &   0 & 0 & 1991 &     0.000 &  8 &      0.00 &     0.00 &    0.000 & 0 & FALSE\\\\\n",
       "\t137 & 10094010 & 1 & 3 & 3 & 7 & 2 & 58 &  20969.254 &     0.000 & 2 &   0 & 0 & 1991 &     0.000 & 12 &      0.00 &     0.00 &    0.000 & 0 & FALSE\\\\\n",
       "\t138 & 10097010 & 1 & 3 & 3 & 1 & 1 & 53 & 346346.429 &     0.000 & 1 &   0 & 0 & 1992 &     0.000 & 12 &      0.00 &     0.00 &    0.000 & 0 & FALSE\\\\\n",
       "\t140 & 10099010 & 1 & 3 & 3 & 7 & 2 & 59 &   6989.751 &  8387.701 & 4 &   0 & 0 & 1991 &  8387.701 & 12 &      0.00 &     0.00 &    0.000 & 0 & FALSE\\\\\n",
       "\t147 & 10106010 & 1 & 3 & 3 & 1 & 1 & 61 &      0.000 & 34948.756 & 5 & 100 & 1 & 1991 &     0.000 & 17 &      0.00 &     0.00 &    0.000 & 0 & FALSE\\\\\n",
       "\t154 & 10109020 & 1 & 3 & 3 & 1 & 2 & 54 & 111836.019 &     0.000 & 2 &   0 & 1 & 1991 &     0.000 & 17 & 167754.03 &     0.00 &    0.000 & 0 & FALSE\\\\\n",
       "\t155 & 10109030 & 1 & 3 & 2 & 1 & 1 & 63 & 167754.029 &     0.000 & 1 &   0 & 1 & 1991 &     0.000 & 17 & 111836.02 &     0.00 &    0.000 & 0 & FALSE\\\\\n",
       "\t165 & 10124010 & 1 & 3 & 3 & 4 & 2 & 59 &      0.000 & 16356.018 & 5 & 100 & 1 & 1991 &     0.000 & 17 &      0.00 &     0.00 &    0.000 & 0 & FALSE\\\\\n",
       "\t172 & 10147010 & 1 & 3 & 3 & 5 & 2 & 60 &      0.000 &     0.000 & 6 &   0 & 0 & 1991 &  5871.391 &  8 &      0.00 &     0.00 &    0.000 & 0 & FALSE\\\\\n",
       "\t183 & 10155010 & 1 & 3 & 3 & 5 & 2 & 53 &  27959.005 &     0.000 & 1 &   0 & 0 & 1991 & 16775.402 &  7 &      0.00 &     0.00 &    0.000 & 0 & FALSE\\\\\n",
       "\t187 & 10206010 & 1 & 3 & 3 & 5 & 2 & 55 &      0.000 &     0.000 & 5 & 100 & 0 & 1991 &  7171.485 & 12 &      0.00 &     0.00 &    0.000 & 0 & FALSE\\\\\n",
       "\t198 & 10210020 & 1 & 3 & 3 & 1 & 1 & 53 &  15377.453 &     0.000 & 3 &   0 & 0 & 1991 &     0.000 &  6 &  13280.53 &     0.00 &    0.000 & 0 & FALSE\\\\\n",
       "\t209 & 10217010 & 1 & 3 & 3 & 7 & 2 & 60 &      0.000 &     0.000 & 5 & 100 & 0 & 1992 &  5497.909 &  4 &      0.00 &     0.00 &    0.000 & 0 & FALSE\\\\\n",
       "\t211 & 10225010 & 1 & 3 & 3 & 8 & 2 & 57 &  34948.756 &     0.000 & 1 &   0 & 0 & 1991 &     0.000 &  8 &      0.00 &     0.00 &    0.000 & 0 & FALSE\\\\\n",
       "\t222 & 10237020 & 1 & 3 & 3 & 1 & 1 & 52 &  34089.215 &     0.000 & 1 &   0 & 0 & 1992 &     0.000 & 14 &  34089.22 &     0.00 &    0.000 & 0 & FALSE\\\\\n",
       "\t223 & 10237030 & 1 & 3 & 4 & 1 & 2 & 50 &  34089.215 &     0.000 & 1 &   0 & 1 & 1992 &     0.000 & 17 &  34089.22 &     0.00 &    0.000 & 0 & FALSE\\\\\n",
       "\t225 & 10257010 & 1 & 3 & 3 & 7 & 2 & 56 &  36346.706 &     0.000 & 5 & 100 & 0 & 1991 &     0.000 & 11 &      0.00 &     0.00 &    0.000 & 0 & FALSE\\\\\n",
       "\t226 & 10281010 & 1 & 3 & 3 & 2 & 2 & 54 &  27959.005 &     0.000 & 1 &   0 & 0 & 1991 &     0.000 & 12 &  16775.40 &     0.00 &    0.000 & 0 & FALSE\\\\\n",
       "\t⋮ & ⋮ & ⋮ & ⋮ & ⋮ & ⋮ & ⋮ & ⋮ & ⋮ & ⋮ & ⋮ & ⋮ & ⋮ & ⋮ & ⋮ & ⋮ & ⋮ & ⋮ & ⋮ & ⋮ & ⋮\\\\\n",
       "\t170501 &  94741020 & 1 & 3 & 3 & 1 & 2 & 57 &     0.000 &     0.00 & 7 &   0 & 0 & 1991 &     0.000 & 14 &     0.000 &     0.00 &     0.000 &  0 & FALSE\\\\\n",
       "\t170512 &  94956010 & 1 & 3 & 3 & 1 & 1 & 53 &  8387.701 &     0.00 & 3 &   0 & 0 & 1991 &  1753.030 &  5 &  2236.720 &     0.00 &  1753.030 &  0 & FALSE\\\\\n",
       "\t170521 &  94956040 & 1 & 3 & 4 & 1 & 2 & 45 &  2236.720 &     0.00 & 2 &   0 & 0 & 1991 &  1753.030 & 10 &  8387.701 &     0.00 &  1753.030 &  0 & FALSE\\\\\n",
       "\t170532 &  95033010 & 1 & 3 & 3 & 1 & 2 & 53 & 34089.215 &     0.00 & 1 &   0 & 0 & 1992 &     0.000 & 12 & 68178.431 &     0.00 &     0.000 &  0 & FALSE\\\\\n",
       "\t170543 &  95275010 & 1 & 3 & 3 & 1 & 1 & 58 &     0.000 &     0.00 & 1 &   0 & 0 & 1991 &     0.000 & 12 &     0.000 &     0.00 &     0.000 &  0 & FALSE\\\\\n",
       "\t170554 &  95275020 & 1 & 3 & 3 & 1 & 2 & 52 &     0.000 &     0.00 & 1 &   0 & 0 & 1991 &     0.000 & 12 &     0.000 &     0.00 &     0.000 &  0 & FALSE\\\\\n",
       "\t170565 & 952836010 & 1 & 6 & 6 & 5 & 2 & 51 & 10746.063 &     0.00 & 1 &   0 & 0 & 2010 &     0.000 &  6 &     0.000 &     0.00 &     0.000 & NA &  TRUE\\\\\n",
       "\t170567 &  95306030 & 1 & 3 & 2 & 1 & 1 & 64 & 65451.294 &     0.00 & 5 & 100 & 1 & 1992 &     0.000 & 17 &     0.000 &     0.00 &     0.000 &  0 & FALSE\\\\\n",
       "\t170578 &  95650010 & 1 & 3 & 3 & 1 & 1 & 52 & 53821.084 &     0.00 & 1 &   0 & 1 & 1991 &     0.000 & 14 & 19571.303 &     0.00 &     0.000 &  0 & FALSE\\\\\n",
       "\t170593 &  95650040 & 1 & 3 & 4 & 1 & 2 & 50 & 19571.303 &     0.00 & 1 &   0 & 1 & 1991 &     0.000 & 17 & 53821.084 &     0.00 &     0.000 &  0 & FALSE\\\\\n",
       "\t170604 & 958361010 & 1 & 6 & 0 & 4 & 1 & 46 &     0.000 &     0.00 & 2 &   0 & 0 & 2009 & 21845.441 & 11 &     0.000 &     0.00 &     0.000 & NA &  TRUE\\\\\n",
       "\t170606 &  95905010 & 1 & 3 & 3 & 1 & 2 & 60 & 41938.507 &     0.00 & 5 & 100 & 1 & 1991 &     0.000 & 14 &     0.000 &     0.00 & 34948.758 &  0 & FALSE\\\\\n",
       "\t170607 &  95905040 & 1 & 3 & 2 & 1 & 1 & 62 &     0.000 &     0.00 & 5 & 100 & 0 & 1991 & 34948.758 & 12 & 41938.507 &     0.00 &     0.000 &  1 & FALSE\\\\\n",
       "\t170608 & 959733010 & 1 & 6 & 0 & 8 & 1 & 49 &     0.000 &     0.00 & 5 & 100 & 0 & 2009 &  7645.905 & 16 &     0.000 &     0.00 &     0.000 & NA &  TRUE\\\\\n",
       "\t170611 &  96075010 & 1 & 3 & 3 & 4 & 2 & 51 & 26561.055 &     0.00 & 1 &   0 & 0 & 1991 &     0.000 &  7 &     0.000 &     0.00 &     0.000 &  0 & FALSE\\\\\n",
       "\t170622 &  96126010 & 1 & 3 & 3 & 1 & 1 & 53 & 27271.372 &     0.00 & 1 &   0 & 0 & 1992 &     0.000 & 13 & 29998.510 &     0.00 &     0.000 &  0 & FALSE\\\\\n",
       "\t170633 &  96126040 & 1 & 3 & 4 & 1 & 2 & 45 & 29998.510 &     0.00 & 1 &   0 & 1 & 1992 &     0.000 & 17 & 27271.372 &     0.00 &     0.000 &  0 & FALSE\\\\\n",
       "\t170644 &  96578010 & 1 & 3 & 3 & 1 & 1 & 52 & 35452.784 &     0.00 & 1 &   0 & 0 & 1992 &     0.000 & 14 & 50452.039 &     0.00 &     0.000 &  0 & FALSE\\\\\n",
       "\t170655 &  97325010 & 1 & 3 & 3 & 5 & 1 & 58 & 57315.960 &     0.00 & 1 &   0 & 0 & 1991 &     0.000 & 12 &     0.000 &     0.00 &     0.000 &  0 & FALSE\\\\\n",
       "\t170656 &  97589010 & 1 & 3 & 3 & 1 & 1 & 58 & 16775.403 &     0.00 & 3 &   0 & 0 & 1991 &     0.000 & 15 &  2935.696 &     0.00 &     0.000 &  0 & FALSE\\\\\n",
       "\t170661 &  97589020 & 1 & 3 & 3 & 1 & 2 & 52 &  2935.696 &     0.00 & 7 &   0 & 0 & 1991 &     0.000 & 13 & 16775.403 &     0.00 &     0.000 &  0 & FALSE\\\\\n",
       "\t170671 &  98001010 & 1 & 3 & 3 & 5 & 2 & 51 & 40540.557 &     0.00 & 1 &   0 & 1 & 1991 &     0.000 & 17 &     0.000 &     0.00 &     0.000 &  0 & FALSE\\\\\n",
       "\t170682 &  98097020 & 1 & 3 & 3 & 1 & 2 & 60 &     0.000 &     0.00 & 7 &   0 & 0 & 1992 &     0.000 & 12 & 81814.117 & 24544.24 &     0.000 &  0 & FALSE\\\\\n",
       "\t170693 &  98097030 & 1 & 3 & 2 & 1 & 1 & 64 & 81814.117 & 24544.24 & 1 &   0 & 0 & 1992 &     0.000 & 12 &     0.000 &     0.00 &     0.000 &  0 & FALSE\\\\\n",
       "\t170704 &  98121010 & 1 & 3 & 3 & 5 & 1 & 58 &     0.000 &     0.00 & 2 &   0 & 0 & 1991 &     0.000 &  8 &     0.000 &     0.00 &     0.000 &  0 & FALSE\\\\\n",
       "\t170713 &  98802010 & 1 & 3 & 3 & 1 & 1 & 60 & 47530.308 &     0.00 & 1 &   0 & 0 & 1991 &     0.000 &  5 &     0.000 &     0.00 &  2096.925 &  0 & FALSE\\\\\n",
       "\t170724 &  98802040 & 1 & 3 & 2 & 1 & 2 & 65 &     0.000 &     0.00 & 5 & 100 & 0 & 1991 &  2096.925 &  5 & 47530.308 &     0.00 &     0.000 &  0 & FALSE\\\\\n",
       "\t170735 &  99231010 & 1 & 3 & 3 & 4 & 1 & 52 & 61906.015 &     0.00 & 1 &   0 & 0 & 1992 &     0.000 & 14 &     0.000 &     0.00 &     0.000 &  0 & FALSE\\\\\n",
       "\t170748 &  99564010 & 1 & 3 & 3 & 5 & 2 & 58 & 46132.358 &     0.00 & 1 &   0 & 0 & 1991 &     0.000 & 12 &     0.000 &     0.00 &     0.000 &  0 & FALSE\\\\\n",
       "\t170761 &  99587010 & 1 & 3 & 3 & 7 & 2 & 54 &     0.000 &     0.00 & 5 & 100 & 0 & 1991 & 10484.627 &  8 &     0.000 &     0.00 &     0.000 &  0 & FALSE\\\\\n",
       "\\end{tabular}\n"
      ],
      "text/markdown": [
       "\n",
       "A data.frame: 28307 × 20\n",
       "\n",
       "| <!--/--> | hhidpn &lt;int&gt; | index_wave &lt;int&gt; | hacohort &lt;int&gt; | racohbyr &lt;dbl&gt; | rmstat &lt;int&gt; | ragender &lt;int&gt; | ragey_b &lt;int&gt; | riearn &lt;dbl&gt; | ripena &lt;dbl&gt; | rlbrf &lt;int&gt; | retired &lt;int&gt; | collegeplus &lt;int&gt; | year &lt;int&gt; | rgov &lt;dbl&gt; | raedyrs &lt;dbl&gt; | siearn &lt;dbl&gt; | sipena &lt;dbl&gt; | sgov &lt;dbl&gt; | proxy &lt;dbl&gt; | depres_is_nan &lt;lgl&gt; |\n",
       "|---|---|---|---|---|---|---|---|---|---|---|---|---|---|---|---|---|---|---|---|---|\n",
       "| 1 | 10001010 | 1 | 3 | 3 | 8 | 1 | 53 |      0.000 |     0.000 | 3 |   0 | 0 | 1991 |     0.000 | 12 |      0.00 |     0.00 |    0.000 | 0 | FALSE |\n",
       "| 12 | 10003020 | 1 | 3 | 3 | 1 | 1 | 58 |  71295.462 |     0.000 | 1 |   0 | 1 | 1991 |     0.000 | 16 |  26561.05 |     0.00 |    0.000 | 1 | FALSE |\n",
       "| 16 | 10004010 | 1 | 3 | 3 | 1 | 1 | 52 |      0.000 | 51724.159 | 5 | 100 | 1 | 1991 |  4193.851 | 16 |  90866.77 |     0.00 |    0.000 | 0 | FALSE |\n",
       "| 26 | 10004040 | 1 | 3 | 4 | 1 | 2 | 46 |  90866.765 |     0.000 | 1 |   0 | 0 | 1991 |     0.000 | 12 |      0.00 | 51724.16 | 4193.851 | 0 | FALSE |\n",
       "| 37 | 10013010 | 1 | 3 | 3 | 1 | 1 | 54 |  38443.632 |     0.000 | 1 |   0 | 0 | 1991 |     0.000 | 12 |  38443.63 |     0.00 |    0.000 | 0 | FALSE |\n",
       "| 47 | 10013040 | 1 | 3 | 4 | 1 | 2 | 44 |  38443.632 |     0.000 | 1 |   0 | 0 | 1991 |     0.000 | 13 |  38443.63 |     0.00 |    0.000 | 0 | FALSE |\n",
       "| 58 | 10038010 | 1 | 3 | 3 | 1 | 1 | 56 |      0.000 |     0.000 | 1 |   0 | 1 | 1992 |     0.000 | 16 |  68178.43 |     0.00 |    0.000 | 0 | FALSE |\n",
       "| 69 | 10038040 | 1 | 3 | 4 | 1 | 2 | 49 |  69897.512 |     0.000 | 1 |   0 | 1 | 1991 |     0.000 | 16 |      0.00 |     0.00 |    0.000 | 0 | FALSE |\n",
       "| 80 | 10050010 | 1 | 3 | 3 | 7 | 2 | 50 |  71015.872 |     0.000 | 1 |   0 | 1 | 1991 |     0.000 | 17 |      0.00 |     0.00 |    0.000 | 0 | FALSE |\n",
       "| 91 | 10059020 | 1 | 3 | 3 | 1 | 2 | 57 |      0.000 |     0.000 | 7 |   0 | 1 | 1992 |     0.000 | 16 |  10908.55 |     0.00 |    0.000 | 0 | FALSE |\n",
       "| 102 | 10059030 | 1 | 3 | 2 | 1 | 1 | 64 |  10908.549 |     0.000 | 1 |   0 | 1 | 1992 |     0.000 | 17 |      0.00 |     0.00 |    0.000 | 1 | FALSE |\n",
       "| 113 | 10063010 | 1 | 3 | 3 | 4 | 2 | 54 |      0.000 |     0.000 | 3 |   0 | 0 | 1991 |  3830.383 |  9 |      0.00 |     0.00 |    0.000 | 0 | FALSE |\n",
       "| 120 | 10075020 | 1 | 3 | 3 | 1 | 2 | 55 |      0.000 |     0.000 | 4 |   0 | 0 | 1991 |     0.000 |  8 |      0.00 |     0.00 |    0.000 | 0 | FALSE |\n",
       "| 137 | 10094010 | 1 | 3 | 3 | 7 | 2 | 58 |  20969.254 |     0.000 | 2 |   0 | 0 | 1991 |     0.000 | 12 |      0.00 |     0.00 |    0.000 | 0 | FALSE |\n",
       "| 138 | 10097010 | 1 | 3 | 3 | 1 | 1 | 53 | 346346.429 |     0.000 | 1 |   0 | 0 | 1992 |     0.000 | 12 |      0.00 |     0.00 |    0.000 | 0 | FALSE |\n",
       "| 140 | 10099010 | 1 | 3 | 3 | 7 | 2 | 59 |   6989.751 |  8387.701 | 4 |   0 | 0 | 1991 |  8387.701 | 12 |      0.00 |     0.00 |    0.000 | 0 | FALSE |\n",
       "| 147 | 10106010 | 1 | 3 | 3 | 1 | 1 | 61 |      0.000 | 34948.756 | 5 | 100 | 1 | 1991 |     0.000 | 17 |      0.00 |     0.00 |    0.000 | 0 | FALSE |\n",
       "| 154 | 10109020 | 1 | 3 | 3 | 1 | 2 | 54 | 111836.019 |     0.000 | 2 |   0 | 1 | 1991 |     0.000 | 17 | 167754.03 |     0.00 |    0.000 | 0 | FALSE |\n",
       "| 155 | 10109030 | 1 | 3 | 2 | 1 | 1 | 63 | 167754.029 |     0.000 | 1 |   0 | 1 | 1991 |     0.000 | 17 | 111836.02 |     0.00 |    0.000 | 0 | FALSE |\n",
       "| 165 | 10124010 | 1 | 3 | 3 | 4 | 2 | 59 |      0.000 | 16356.018 | 5 | 100 | 1 | 1991 |     0.000 | 17 |      0.00 |     0.00 |    0.000 | 0 | FALSE |\n",
       "| 172 | 10147010 | 1 | 3 | 3 | 5 | 2 | 60 |      0.000 |     0.000 | 6 |   0 | 0 | 1991 |  5871.391 |  8 |      0.00 |     0.00 |    0.000 | 0 | FALSE |\n",
       "| 183 | 10155010 | 1 | 3 | 3 | 5 | 2 | 53 |  27959.005 |     0.000 | 1 |   0 | 0 | 1991 | 16775.402 |  7 |      0.00 |     0.00 |    0.000 | 0 | FALSE |\n",
       "| 187 | 10206010 | 1 | 3 | 3 | 5 | 2 | 55 |      0.000 |     0.000 | 5 | 100 | 0 | 1991 |  7171.485 | 12 |      0.00 |     0.00 |    0.000 | 0 | FALSE |\n",
       "| 198 | 10210020 | 1 | 3 | 3 | 1 | 1 | 53 |  15377.453 |     0.000 | 3 |   0 | 0 | 1991 |     0.000 |  6 |  13280.53 |     0.00 |    0.000 | 0 | FALSE |\n",
       "| 209 | 10217010 | 1 | 3 | 3 | 7 | 2 | 60 |      0.000 |     0.000 | 5 | 100 | 0 | 1992 |  5497.909 |  4 |      0.00 |     0.00 |    0.000 | 0 | FALSE |\n",
       "| 211 | 10225010 | 1 | 3 | 3 | 8 | 2 | 57 |  34948.756 |     0.000 | 1 |   0 | 0 | 1991 |     0.000 |  8 |      0.00 |     0.00 |    0.000 | 0 | FALSE |\n",
       "| 222 | 10237020 | 1 | 3 | 3 | 1 | 1 | 52 |  34089.215 |     0.000 | 1 |   0 | 0 | 1992 |     0.000 | 14 |  34089.22 |     0.00 |    0.000 | 0 | FALSE |\n",
       "| 223 | 10237030 | 1 | 3 | 4 | 1 | 2 | 50 |  34089.215 |     0.000 | 1 |   0 | 1 | 1992 |     0.000 | 17 |  34089.22 |     0.00 |    0.000 | 0 | FALSE |\n",
       "| 225 | 10257010 | 1 | 3 | 3 | 7 | 2 | 56 |  36346.706 |     0.000 | 5 | 100 | 0 | 1991 |     0.000 | 11 |      0.00 |     0.00 |    0.000 | 0 | FALSE |\n",
       "| 226 | 10281010 | 1 | 3 | 3 | 2 | 2 | 54 |  27959.005 |     0.000 | 1 |   0 | 0 | 1991 |     0.000 | 12 |  16775.40 |     0.00 |    0.000 | 0 | FALSE |\n",
       "| ⋮ | ⋮ | ⋮ | ⋮ | ⋮ | ⋮ | ⋮ | ⋮ | ⋮ | ⋮ | ⋮ | ⋮ | ⋮ | ⋮ | ⋮ | ⋮ | ⋮ | ⋮ | ⋮ | ⋮ | ⋮ |\n",
       "| 170501 |  94741020 | 1 | 3 | 3 | 1 | 2 | 57 |     0.000 |     0.00 | 7 |   0 | 0 | 1991 |     0.000 | 14 |     0.000 |     0.00 |     0.000 |  0 | FALSE |\n",
       "| 170512 |  94956010 | 1 | 3 | 3 | 1 | 1 | 53 |  8387.701 |     0.00 | 3 |   0 | 0 | 1991 |  1753.030 |  5 |  2236.720 |     0.00 |  1753.030 |  0 | FALSE |\n",
       "| 170521 |  94956040 | 1 | 3 | 4 | 1 | 2 | 45 |  2236.720 |     0.00 | 2 |   0 | 0 | 1991 |  1753.030 | 10 |  8387.701 |     0.00 |  1753.030 |  0 | FALSE |\n",
       "| 170532 |  95033010 | 1 | 3 | 3 | 1 | 2 | 53 | 34089.215 |     0.00 | 1 |   0 | 0 | 1992 |     0.000 | 12 | 68178.431 |     0.00 |     0.000 |  0 | FALSE |\n",
       "| 170543 |  95275010 | 1 | 3 | 3 | 1 | 1 | 58 |     0.000 |     0.00 | 1 |   0 | 0 | 1991 |     0.000 | 12 |     0.000 |     0.00 |     0.000 |  0 | FALSE |\n",
       "| 170554 |  95275020 | 1 | 3 | 3 | 1 | 2 | 52 |     0.000 |     0.00 | 1 |   0 | 0 | 1991 |     0.000 | 12 |     0.000 |     0.00 |     0.000 |  0 | FALSE |\n",
       "| 170565 | 952836010 | 1 | 6 | 6 | 5 | 2 | 51 | 10746.063 |     0.00 | 1 |   0 | 0 | 2010 |     0.000 |  6 |     0.000 |     0.00 |     0.000 | NA |  TRUE |\n",
       "| 170567 |  95306030 | 1 | 3 | 2 | 1 | 1 | 64 | 65451.294 |     0.00 | 5 | 100 | 1 | 1992 |     0.000 | 17 |     0.000 |     0.00 |     0.000 |  0 | FALSE |\n",
       "| 170578 |  95650010 | 1 | 3 | 3 | 1 | 1 | 52 | 53821.084 |     0.00 | 1 |   0 | 1 | 1991 |     0.000 | 14 | 19571.303 |     0.00 |     0.000 |  0 | FALSE |\n",
       "| 170593 |  95650040 | 1 | 3 | 4 | 1 | 2 | 50 | 19571.303 |     0.00 | 1 |   0 | 1 | 1991 |     0.000 | 17 | 53821.084 |     0.00 |     0.000 |  0 | FALSE |\n",
       "| 170604 | 958361010 | 1 | 6 | 0 | 4 | 1 | 46 |     0.000 |     0.00 | 2 |   0 | 0 | 2009 | 21845.441 | 11 |     0.000 |     0.00 |     0.000 | NA |  TRUE |\n",
       "| 170606 |  95905010 | 1 | 3 | 3 | 1 | 2 | 60 | 41938.507 |     0.00 | 5 | 100 | 1 | 1991 |     0.000 | 14 |     0.000 |     0.00 | 34948.758 |  0 | FALSE |\n",
       "| 170607 |  95905040 | 1 | 3 | 2 | 1 | 1 | 62 |     0.000 |     0.00 | 5 | 100 | 0 | 1991 | 34948.758 | 12 | 41938.507 |     0.00 |     0.000 |  1 | FALSE |\n",
       "| 170608 | 959733010 | 1 | 6 | 0 | 8 | 1 | 49 |     0.000 |     0.00 | 5 | 100 | 0 | 2009 |  7645.905 | 16 |     0.000 |     0.00 |     0.000 | NA |  TRUE |\n",
       "| 170611 |  96075010 | 1 | 3 | 3 | 4 | 2 | 51 | 26561.055 |     0.00 | 1 |   0 | 0 | 1991 |     0.000 |  7 |     0.000 |     0.00 |     0.000 |  0 | FALSE |\n",
       "| 170622 |  96126010 | 1 | 3 | 3 | 1 | 1 | 53 | 27271.372 |     0.00 | 1 |   0 | 0 | 1992 |     0.000 | 13 | 29998.510 |     0.00 |     0.000 |  0 | FALSE |\n",
       "| 170633 |  96126040 | 1 | 3 | 4 | 1 | 2 | 45 | 29998.510 |     0.00 | 1 |   0 | 1 | 1992 |     0.000 | 17 | 27271.372 |     0.00 |     0.000 |  0 | FALSE |\n",
       "| 170644 |  96578010 | 1 | 3 | 3 | 1 | 1 | 52 | 35452.784 |     0.00 | 1 |   0 | 0 | 1992 |     0.000 | 14 | 50452.039 |     0.00 |     0.000 |  0 | FALSE |\n",
       "| 170655 |  97325010 | 1 | 3 | 3 | 5 | 1 | 58 | 57315.960 |     0.00 | 1 |   0 | 0 | 1991 |     0.000 | 12 |     0.000 |     0.00 |     0.000 |  0 | FALSE |\n",
       "| 170656 |  97589010 | 1 | 3 | 3 | 1 | 1 | 58 | 16775.403 |     0.00 | 3 |   0 | 0 | 1991 |     0.000 | 15 |  2935.696 |     0.00 |     0.000 |  0 | FALSE |\n",
       "| 170661 |  97589020 | 1 | 3 | 3 | 1 | 2 | 52 |  2935.696 |     0.00 | 7 |   0 | 0 | 1991 |     0.000 | 13 | 16775.403 |     0.00 |     0.000 |  0 | FALSE |\n",
       "| 170671 |  98001010 | 1 | 3 | 3 | 5 | 2 | 51 | 40540.557 |     0.00 | 1 |   0 | 1 | 1991 |     0.000 | 17 |     0.000 |     0.00 |     0.000 |  0 | FALSE |\n",
       "| 170682 |  98097020 | 1 | 3 | 3 | 1 | 2 | 60 |     0.000 |     0.00 | 7 |   0 | 0 | 1992 |     0.000 | 12 | 81814.117 | 24544.24 |     0.000 |  0 | FALSE |\n",
       "| 170693 |  98097030 | 1 | 3 | 2 | 1 | 1 | 64 | 81814.117 | 24544.24 | 1 |   0 | 0 | 1992 |     0.000 | 12 |     0.000 |     0.00 |     0.000 |  0 | FALSE |\n",
       "| 170704 |  98121010 | 1 | 3 | 3 | 5 | 1 | 58 |     0.000 |     0.00 | 2 |   0 | 0 | 1991 |     0.000 |  8 |     0.000 |     0.00 |     0.000 |  0 | FALSE |\n",
       "| 170713 |  98802010 | 1 | 3 | 3 | 1 | 1 | 60 | 47530.308 |     0.00 | 1 |   0 | 0 | 1991 |     0.000 |  5 |     0.000 |     0.00 |  2096.925 |  0 | FALSE |\n",
       "| 170724 |  98802040 | 1 | 3 | 2 | 1 | 2 | 65 |     0.000 |     0.00 | 5 | 100 | 0 | 1991 |  2096.925 |  5 | 47530.308 |     0.00 |     0.000 |  0 | FALSE |\n",
       "| 170735 |  99231010 | 1 | 3 | 3 | 4 | 1 | 52 | 61906.015 |     0.00 | 1 |   0 | 0 | 1992 |     0.000 | 14 |     0.000 |     0.00 |     0.000 |  0 | FALSE |\n",
       "| 170748 |  99564010 | 1 | 3 | 3 | 5 | 2 | 58 | 46132.358 |     0.00 | 1 |   0 | 0 | 1991 |     0.000 | 12 |     0.000 |     0.00 |     0.000 |  0 | FALSE |\n",
       "| 170761 |  99587010 | 1 | 3 | 3 | 7 | 2 | 54 |     0.000 |     0.00 | 5 | 100 | 0 | 1991 | 10484.627 |  8 |     0.000 |     0.00 |     0.000 |  0 | FALSE |\n",
       "\n"
      ],
      "text/plain": [
       "       hhidpn    index_wave hacohort racohbyr rmstat ragender ragey_b\n",
       "1      10001010  1          3        3        8      1        53     \n",
       "12     10003020  1          3        3        1      1        58     \n",
       "16     10004010  1          3        3        1      1        52     \n",
       "26     10004040  1          3        4        1      2        46     \n",
       "37     10013010  1          3        3        1      1        54     \n",
       "47     10013040  1          3        4        1      2        44     \n",
       "58     10038010  1          3        3        1      1        56     \n",
       "69     10038040  1          3        4        1      2        49     \n",
       "80     10050010  1          3        3        7      2        50     \n",
       "91     10059020  1          3        3        1      2        57     \n",
       "102    10059030  1          3        2        1      1        64     \n",
       "113    10063010  1          3        3        4      2        54     \n",
       "120    10075020  1          3        3        1      2        55     \n",
       "137    10094010  1          3        3        7      2        58     \n",
       "138    10097010  1          3        3        1      1        53     \n",
       "140    10099010  1          3        3        7      2        59     \n",
       "147    10106010  1          3        3        1      1        61     \n",
       "154    10109020  1          3        3        1      2        54     \n",
       "155    10109030  1          3        2        1      1        63     \n",
       "165    10124010  1          3        3        4      2        59     \n",
       "172    10147010  1          3        3        5      2        60     \n",
       "183    10155010  1          3        3        5      2        53     \n",
       "187    10206010  1          3        3        5      2        55     \n",
       "198    10210020  1          3        3        1      1        53     \n",
       "209    10217010  1          3        3        7      2        60     \n",
       "211    10225010  1          3        3        8      2        57     \n",
       "222    10237020  1          3        3        1      1        52     \n",
       "223    10237030  1          3        4        1      2        50     \n",
       "225    10257010  1          3        3        7      2        56     \n",
       "226    10281010  1          3        3        2      2        54     \n",
       "⋮      ⋮         ⋮          ⋮        ⋮        ⋮      ⋮        ⋮      \n",
       "170501  94741020 1          3        3        1      2        57     \n",
       "170512  94956010 1          3        3        1      1        53     \n",
       "170521  94956040 1          3        4        1      2        45     \n",
       "170532  95033010 1          3        3        1      2        53     \n",
       "170543  95275010 1          3        3        1      1        58     \n",
       "170554  95275020 1          3        3        1      2        52     \n",
       "170565 952836010 1          6        6        5      2        51     \n",
       "170567  95306030 1          3        2        1      1        64     \n",
       "170578  95650010 1          3        3        1      1        52     \n",
       "170593  95650040 1          3        4        1      2        50     \n",
       "170604 958361010 1          6        0        4      1        46     \n",
       "170606  95905010 1          3        3        1      2        60     \n",
       "170607  95905040 1          3        2        1      1        62     \n",
       "170608 959733010 1          6        0        8      1        49     \n",
       "170611  96075010 1          3        3        4      2        51     \n",
       "170622  96126010 1          3        3        1      1        53     \n",
       "170633  96126040 1          3        4        1      2        45     \n",
       "170644  96578010 1          3        3        1      1        52     \n",
       "170655  97325010 1          3        3        5      1        58     \n",
       "170656  97589010 1          3        3        1      1        58     \n",
       "170661  97589020 1          3        3        1      2        52     \n",
       "170671  98001010 1          3        3        5      2        51     \n",
       "170682  98097020 1          3        3        1      2        60     \n",
       "170693  98097030 1          3        2        1      1        64     \n",
       "170704  98121010 1          3        3        5      1        58     \n",
       "170713  98802010 1          3        3        1      1        60     \n",
       "170724  98802040 1          3        2        1      2        65     \n",
       "170735  99231010 1          3        3        4      1        52     \n",
       "170748  99564010 1          3        3        5      2        58     \n",
       "170761  99587010 1          3        3        7      2        54     \n",
       "       riearn     ripena    rlbrf retired collegeplus year rgov      raedyrs\n",
       "1           0.000     0.000 3       0     0           1991     0.000 12     \n",
       "12      71295.462     0.000 1       0     1           1991     0.000 16     \n",
       "16          0.000 51724.159 5     100     1           1991  4193.851 16     \n",
       "26      90866.765     0.000 1       0     0           1991     0.000 12     \n",
       "37      38443.632     0.000 1       0     0           1991     0.000 12     \n",
       "47      38443.632     0.000 1       0     0           1991     0.000 13     \n",
       "58          0.000     0.000 1       0     1           1992     0.000 16     \n",
       "69      69897.512     0.000 1       0     1           1991     0.000 16     \n",
       "80      71015.872     0.000 1       0     1           1991     0.000 17     \n",
       "91          0.000     0.000 7       0     1           1992     0.000 16     \n",
       "102     10908.549     0.000 1       0     1           1992     0.000 17     \n",
       "113         0.000     0.000 3       0     0           1991  3830.383  9     \n",
       "120         0.000     0.000 4       0     0           1991     0.000  8     \n",
       "137     20969.254     0.000 2       0     0           1991     0.000 12     \n",
       "138    346346.429     0.000 1       0     0           1992     0.000 12     \n",
       "140      6989.751  8387.701 4       0     0           1991  8387.701 12     \n",
       "147         0.000 34948.756 5     100     1           1991     0.000 17     \n",
       "154    111836.019     0.000 2       0     1           1991     0.000 17     \n",
       "155    167754.029     0.000 1       0     1           1991     0.000 17     \n",
       "165         0.000 16356.018 5     100     1           1991     0.000 17     \n",
       "172         0.000     0.000 6       0     0           1991  5871.391  8     \n",
       "183     27959.005     0.000 1       0     0           1991 16775.402  7     \n",
       "187         0.000     0.000 5     100     0           1991  7171.485 12     \n",
       "198     15377.453     0.000 3       0     0           1991     0.000  6     \n",
       "209         0.000     0.000 5     100     0           1992  5497.909  4     \n",
       "211     34948.756     0.000 1       0     0           1991     0.000  8     \n",
       "222     34089.215     0.000 1       0     0           1992     0.000 14     \n",
       "223     34089.215     0.000 1       0     1           1992     0.000 17     \n",
       "225     36346.706     0.000 5     100     0           1991     0.000 11     \n",
       "226     27959.005     0.000 1       0     0           1991     0.000 12     \n",
       "⋮      ⋮          ⋮         ⋮     ⋮       ⋮           ⋮    ⋮         ⋮      \n",
       "170501     0.000      0.00  7       0     0           1991     0.000 14     \n",
       "170512  8387.701      0.00  3       0     0           1991  1753.030  5     \n",
       "170521  2236.720      0.00  2       0     0           1991  1753.030 10     \n",
       "170532 34089.215      0.00  1       0     0           1992     0.000 12     \n",
       "170543     0.000      0.00  1       0     0           1991     0.000 12     \n",
       "170554     0.000      0.00  1       0     0           1991     0.000 12     \n",
       "170565 10746.063      0.00  1       0     0           2010     0.000  6     \n",
       "170567 65451.294      0.00  5     100     1           1992     0.000 17     \n",
       "170578 53821.084      0.00  1       0     1           1991     0.000 14     \n",
       "170593 19571.303      0.00  1       0     1           1991     0.000 17     \n",
       "170604     0.000      0.00  2       0     0           2009 21845.441 11     \n",
       "170606 41938.507      0.00  5     100     1           1991     0.000 14     \n",
       "170607     0.000      0.00  5     100     0           1991 34948.758 12     \n",
       "170608     0.000      0.00  5     100     0           2009  7645.905 16     \n",
       "170611 26561.055      0.00  1       0     0           1991     0.000  7     \n",
       "170622 27271.372      0.00  1       0     0           1992     0.000 13     \n",
       "170633 29998.510      0.00  1       0     1           1992     0.000 17     \n",
       "170644 35452.784      0.00  1       0     0           1992     0.000 14     \n",
       "170655 57315.960      0.00  1       0     0           1991     0.000 12     \n",
       "170656 16775.403      0.00  3       0     0           1991     0.000 15     \n",
       "170661  2935.696      0.00  7       0     0           1991     0.000 13     \n",
       "170671 40540.557      0.00  1       0     1           1991     0.000 17     \n",
       "170682     0.000      0.00  7       0     0           1992     0.000 12     \n",
       "170693 81814.117  24544.24  1       0     0           1992     0.000 12     \n",
       "170704     0.000      0.00  2       0     0           1991     0.000  8     \n",
       "170713 47530.308      0.00  1       0     0           1991     0.000  5     \n",
       "170724     0.000      0.00  5     100     0           1991  2096.925  5     \n",
       "170735 61906.015      0.00  1       0     0           1992     0.000 14     \n",
       "170748 46132.358      0.00  1       0     0           1991     0.000 12     \n",
       "170761     0.000      0.00  5     100     0           1991 10484.627  8     \n",
       "       siearn    sipena   sgov      proxy depres_is_nan\n",
       "1           0.00     0.00    0.000  0     FALSE        \n",
       "12      26561.05     0.00    0.000  1     FALSE        \n",
       "16      90866.77     0.00    0.000  0     FALSE        \n",
       "26          0.00 51724.16 4193.851  0     FALSE        \n",
       "37      38443.63     0.00    0.000  0     FALSE        \n",
       "47      38443.63     0.00    0.000  0     FALSE        \n",
       "58      68178.43     0.00    0.000  0     FALSE        \n",
       "69          0.00     0.00    0.000  0     FALSE        \n",
       "80          0.00     0.00    0.000  0     FALSE        \n",
       "91      10908.55     0.00    0.000  0     FALSE        \n",
       "102         0.00     0.00    0.000  1     FALSE        \n",
       "113         0.00     0.00    0.000  0     FALSE        \n",
       "120         0.00     0.00    0.000  0     FALSE        \n",
       "137         0.00     0.00    0.000  0     FALSE        \n",
       "138         0.00     0.00    0.000  0     FALSE        \n",
       "140         0.00     0.00    0.000  0     FALSE        \n",
       "147         0.00     0.00    0.000  0     FALSE        \n",
       "154    167754.03     0.00    0.000  0     FALSE        \n",
       "155    111836.02     0.00    0.000  0     FALSE        \n",
       "165         0.00     0.00    0.000  0     FALSE        \n",
       "172         0.00     0.00    0.000  0     FALSE        \n",
       "183         0.00     0.00    0.000  0     FALSE        \n",
       "187         0.00     0.00    0.000  0     FALSE        \n",
       "198     13280.53     0.00    0.000  0     FALSE        \n",
       "209         0.00     0.00    0.000  0     FALSE        \n",
       "211         0.00     0.00    0.000  0     FALSE        \n",
       "222     34089.22     0.00    0.000  0     FALSE        \n",
       "223     34089.22     0.00    0.000  0     FALSE        \n",
       "225         0.00     0.00    0.000  0     FALSE        \n",
       "226     16775.40     0.00    0.000  0     FALSE        \n",
       "⋮      ⋮         ⋮        ⋮         ⋮     ⋮            \n",
       "170501     0.000     0.00     0.000  0    FALSE        \n",
       "170512  2236.720     0.00  1753.030  0    FALSE        \n",
       "170521  8387.701     0.00  1753.030  0    FALSE        \n",
       "170532 68178.431     0.00     0.000  0    FALSE        \n",
       "170543     0.000     0.00     0.000  0    FALSE        \n",
       "170554     0.000     0.00     0.000  0    FALSE        \n",
       "170565     0.000     0.00     0.000 NA     TRUE        \n",
       "170567     0.000     0.00     0.000  0    FALSE        \n",
       "170578 19571.303     0.00     0.000  0    FALSE        \n",
       "170593 53821.084     0.00     0.000  0    FALSE        \n",
       "170604     0.000     0.00     0.000 NA     TRUE        \n",
       "170606     0.000     0.00 34948.758  0    FALSE        \n",
       "170607 41938.507     0.00     0.000  1    FALSE        \n",
       "170608     0.000     0.00     0.000 NA     TRUE        \n",
       "170611     0.000     0.00     0.000  0    FALSE        \n",
       "170622 29998.510     0.00     0.000  0    FALSE        \n",
       "170633 27271.372     0.00     0.000  0    FALSE        \n",
       "170644 50452.039     0.00     0.000  0    FALSE        \n",
       "170655     0.000     0.00     0.000  0    FALSE        \n",
       "170656  2935.696     0.00     0.000  0    FALSE        \n",
       "170661 16775.403     0.00     0.000  0    FALSE        \n",
       "170671     0.000     0.00     0.000  0    FALSE        \n",
       "170682 81814.117 24544.24     0.000  0    FALSE        \n",
       "170693     0.000     0.00     0.000  0    FALSE        \n",
       "170704     0.000     0.00     0.000  0    FALSE        \n",
       "170713     0.000     0.00  2096.925  0    FALSE        \n",
       "170724 47530.308     0.00     0.000  0    FALSE        \n",
       "170735     0.000     0.00     0.000  0    FALSE        \n",
       "170748     0.000     0.00     0.000  0    FALSE        \n",
       "170761     0.000     0.00     0.000  0    FALSE        "
      ]
     },
     "metadata": {},
     "output_type": "display_data"
    }
   ],
   "source": [
    "df2[df2$index_wave == 1, ]"
   ]
  },
  {
   "cell_type": "code",
   "execution_count": null,
   "id": "GY4LVSSDm9Ek",
   "metadata": {
    "colab": {
     "base_uri": "https://localhost:8080/",
     "height": 756
    },
    "id": "GY4LVSSDm9Ek",
    "outputId": "a12c2f06-0a0e-4e06-be10-2641e1ffe7ff"
   },
   "outputs": [
    {
     "data": {
      "text/html": [
       "<table class=\"dataframe\">\n",
       "<caption>A tibble: 21 × 2</caption>\n",
       "<thead>\n",
       "\t<tr><th scope=col>year</th><th scope=col>a</th></tr>\n",
       "\t<tr><th scope=col>&lt;int&gt;</th><th scope=col>&lt;int&gt;</th></tr>\n",
       "</thead>\n",
       "<tbody>\n",
       "\t<tr><td>1991</td><td>   0</td></tr>\n",
       "\t<tr><td>1992</td><td>   0</td></tr>\n",
       "\t<tr><td>1993</td><td> 478</td></tr>\n",
       "\t<tr><td>1994</td><td>   0</td></tr>\n",
       "\t<tr><td>1995</td><td> 443</td></tr>\n",
       "\t<tr><td>1996</td><td>  34</td></tr>\n",
       "\t<tr><td>1997</td><td>4342</td></tr>\n",
       "\t<tr><td>1998</td><td> 201</td></tr>\n",
       "\t<tr><td>1999</td><td>2668</td></tr>\n",
       "\t<tr><td>2001</td><td>2486</td></tr>\n",
       "\t<tr><td>2002</td><td>  82</td></tr>\n",
       "\t<tr><td>2003</td><td>2228</td></tr>\n",
       "\t<tr><td>2004</td><td>  87</td></tr>\n",
       "\t<tr><td>2005</td><td>1895</td></tr>\n",
       "\t<tr><td>2006</td><td> 119</td></tr>\n",
       "\t<tr><td>2007</td><td>1813</td></tr>\n",
       "\t<tr><td>2008</td><td>  94</td></tr>\n",
       "\t<tr><td>2009</td><td>2812</td></tr>\n",
       "\t<tr><td>2010</td><td>1794</td></tr>\n",
       "\t<tr><td>2011</td><td>3720</td></tr>\n",
       "\t<tr><td>2012</td><td> 563</td></tr>\n",
       "</tbody>\n",
       "</table>\n"
      ],
      "text/latex": [
       "A tibble: 21 × 2\n",
       "\\begin{tabular}{ll}\n",
       " year & a\\\\\n",
       " <int> & <int>\\\\\n",
       "\\hline\n",
       "\t 1991 &    0\\\\\n",
       "\t 1992 &    0\\\\\n",
       "\t 1993 &  478\\\\\n",
       "\t 1994 &    0\\\\\n",
       "\t 1995 &  443\\\\\n",
       "\t 1996 &   34\\\\\n",
       "\t 1997 & 4342\\\\\n",
       "\t 1998 &  201\\\\\n",
       "\t 1999 & 2668\\\\\n",
       "\t 2001 & 2486\\\\\n",
       "\t 2002 &   82\\\\\n",
       "\t 2003 & 2228\\\\\n",
       "\t 2004 &   87\\\\\n",
       "\t 2005 & 1895\\\\\n",
       "\t 2006 &  119\\\\\n",
       "\t 2007 & 1813\\\\\n",
       "\t 2008 &   94\\\\\n",
       "\t 2009 & 2812\\\\\n",
       "\t 2010 & 1794\\\\\n",
       "\t 2011 & 3720\\\\\n",
       "\t 2012 &  563\\\\\n",
       "\\end{tabular}\n"
      ],
      "text/markdown": [
       "\n",
       "A tibble: 21 × 2\n",
       "\n",
       "| year &lt;int&gt; | a &lt;int&gt; |\n",
       "|---|---|\n",
       "| 1991 |    0 |\n",
       "| 1992 |    0 |\n",
       "| 1993 |  478 |\n",
       "| 1994 |    0 |\n",
       "| 1995 |  443 |\n",
       "| 1996 |   34 |\n",
       "| 1997 | 4342 |\n",
       "| 1998 |  201 |\n",
       "| 1999 | 2668 |\n",
       "| 2001 | 2486 |\n",
       "| 2002 |   82 |\n",
       "| 2003 | 2228 |\n",
       "| 2004 |   87 |\n",
       "| 2005 | 1895 |\n",
       "| 2006 |  119 |\n",
       "| 2007 | 1813 |\n",
       "| 2008 |   94 |\n",
       "| 2009 | 2812 |\n",
       "| 2010 | 1794 |\n",
       "| 2011 | 3720 |\n",
       "| 2012 |  563 |\n",
       "\n"
      ],
      "text/plain": [
       "   year a   \n",
       "1  1991    0\n",
       "2  1992    0\n",
       "3  1993  478\n",
       "4  1994    0\n",
       "5  1995  443\n",
       "6  1996   34\n",
       "7  1997 4342\n",
       "8  1998  201\n",
       "9  1999 2668\n",
       "10 2001 2486\n",
       "11 2002   82\n",
       "12 2003 2228\n",
       "13 2004   87\n",
       "14 2005 1895\n",
       "15 2006  119\n",
       "16 2007 1813\n",
       "17 2008   94\n",
       "18 2009 2812\n",
       "19 2010 1794\n",
       "20 2011 3720\n",
       "21 2012  563"
      ]
     },
     "metadata": {},
     "output_type": "display_data"
    }
   ],
   "source": [
    "df2 %>%\n",
    "  group_by(year) %>%\n",
    "  summarise(a = sum((ragender == 1) & depres_is_nan)\n",
    "  )"
   ]
  },
  {
   "cell_type": "markdown",
   "id": "11cafd04",
   "metadata": {
    "id": "11cafd04"
   },
   "source": [
    "### Теперь обозначим необходимые переменные, а также заменим что нужно на факторы"
   ]
  },
  {
   "cell_type": "code",
   "execution_count": null,
   "id": "8042fe4f",
   "metadata": {
    "id": "8042fe4f"
   },
   "outputs": [],
   "source": [
    "df$depres <- as.factor(ifelse(df$cesd >= 4, 1, 0))\n",
    "df$family_problems <- as.factor(ifelse(df$rmstat %in% c(1, 8), 0, 1))\n",
    "df$pension <- as.factor(df$retired / 100)\n",
    "df$disabled <- as.factor(ifelse(df$rlbrf == 6, 1, 0))\n",
    "df$unemployed <- as.factor(ifelse(df$rlbrf %in% c(3, 7), 1, 0))\n",
    "df$college <- as.factor(df$collegeplus)\n",
    "df$ragender <- as.factor(df$ragender)\n",
    "df$sum = df$riearn + df$ripena + df$rgov + df$siearn + df$sipena + df$sgov + 1\n",
    "df$log_income <- log(df$sum)\n",
    "df$log_income2 <- df$log_income ** 2\n",
    "df$age_2 <- df$ragey_b ** 2"
   ]
  },
  {
   "cell_type": "code",
   "execution_count": null,
   "id": "3I4fhGZnSP2r",
   "metadata": {
    "id": "3I4fhGZnSP2r"
   },
   "outputs": [],
   "source": [
    "df$cesd_isna = is.na(df$cesd) * 1"
   ]
  },
  {
   "cell_type": "code",
   "execution_count": null,
   "id": "nOmWDD5JT2CE",
   "metadata": {
    "colab": {
     "base_uri": "https://localhost:8080/"
    },
    "id": "nOmWDD5JT2CE",
    "outputId": "db1d9a49-68a4-40db-8533-ec47c42e123d"
   },
   "outputs": [
    {
     "name": "stderr",
     "output_type": "stream",
     "text": [
      "Installing package into ‘/usr/local/lib/R/site-library’\n",
      "(as ‘lib’ is unspecified)\n",
      "\n",
      "also installing the dependencies ‘bitops’, ‘gtools’, ‘caTools’, ‘gplots’, ‘ROCR’\n",
      "\n",
      "\n",
      "\n",
      "Attaching package: ‘MLmetrics’\n",
      "\n",
      "\n",
      "The following object is masked from ‘package:base’:\n",
      "\n",
      "    Recall\n",
      "\n",
      "\n"
     ]
    }
   ],
   "source": [
    "install.packages(\"MLmetrics\")\n",
    "library(MLmetrics)"
   ]
  },
  {
   "cell_type": "code",
   "execution_count": null,
   "id": "bcAYvEWeHouM",
   "metadata": {
    "colab": {
     "base_uri": "https://localhost:8080/"
    },
    "id": "bcAYvEWeHouM",
    "outputId": "cb2b6156-70c4-460b-9df8-ca1585b04b78"
   },
   "outputs": [
    {
     "name": "stderr",
     "output_type": "stream",
     "text": [
      "Installing package into ‘/usr/local/lib/R/site-library’\n",
      "(as ‘lib’ is unspecified)\n",
      "\n",
      "also installing the dependencies ‘plyr’, ‘Rcpp’\n",
      "\n",
      "\n",
      "Type 'citation(\"pROC\")' for a citation.\n",
      "\n",
      "\n",
      "Attaching package: ‘pROC’\n",
      "\n",
      "\n",
      "The following objects are masked from ‘package:stats’:\n",
      "\n",
      "    cov, smooth, var\n",
      "\n",
      "\n"
     ]
    }
   ],
   "source": [
    "install.packages(\"pROC\")\n",
    "library(pROC)"
   ]
  },
  {
   "cell_type": "code",
   "execution_count": null,
   "id": "tumDxb4uVzWX",
   "metadata": {
    "colab": {
     "base_uri": "https://localhost:8080/",
     "height": 34
    },
    "id": "tumDxb4uVzWX",
    "outputId": "d5c194fe-8864-4c05-d6d4-f9669b71ff20"
   },
   "outputs": [
    {
     "data": {
      "text/html": [
       "1"
      ],
      "text/latex": [
       "1"
      ],
      "text/markdown": [
       "1"
      ],
      "text/plain": [
       "[1] 1"
      ]
     },
     "metadata": {},
     "output_type": "display_data"
    }
   ],
   "source": [
    "1 - (sum(df$cesd_isna) / length(df$cesd_isna))"
   ]
  },
  {
   "cell_type": "code",
   "execution_count": null,
   "id": "qHPLBvTEbxgy",
   "metadata": {
    "id": "qHPLBvTEbxgy"
   },
   "outputs": [],
   "source": [
    "df$cesd_isna <- as.factor(df$cesd_isna)"
   ]
  },
  {
   "cell_type": "code",
   "execution_count": null,
   "id": "DTQIA2l2vCM3",
   "metadata": {
    "id": "DTQIA2l2vCM3"
   },
   "outputs": [],
   "source": [
    "df <- subset(df, select=-c(cesd, depres))"
   ]
  },
  {
   "cell_type": "code",
   "execution_count": null,
   "id": "vvx6pnbfSojC",
   "metadata": {
    "colab": {
     "base_uri": "https://localhost:8080/"
    },
    "id": "vvx6pnbfSojC",
    "outputId": "c47df460-d222-45a3-94cc-b6625751615d"
   },
   "outputs": [
    {
     "name": "stderr",
     "output_type": "stream",
     "text": [
      "Warning message:\n",
      "“glm.fit: algorithm did not converge”\n"
     ]
    }
   ],
   "source": [
    "model <- glm(cesd_isna ~ log_income + family_problems + pension + disabled + unemployed + college +\n",
    "  ragender + ragey_b, df, family = \"binomial\") # log_income\n",
    "a <- c()\n",
    "\n",
    "\n",
    "# for(i in seq(0, 1, 0.005)){\n",
    "#   pred <- ifelse(model$fitted.values < i, 0, 1)\n",
    "#   a <- c(a, Accuracy(pred, df$cesd_isna))\n",
    "# }\n",
    "# max(a)"
   ]
  },
  {
   "cell_type": "code",
   "execution_count": null,
   "id": "ZrZDPOGjGdyz",
   "metadata": {
    "colab": {
     "base_uri": "https://localhost:8080/"
    },
    "id": "ZrZDPOGjGdyz",
    "outputId": "bfe99f40-49c6-44b6-bdf5-ac1fed06cbb7"
   },
   "outputs": [
    {
     "name": "stdout",
     "output_type": "stream",
     "text": [
      "[1] 117126\n",
      "[1] 117126\n"
     ]
    }
   ],
   "source": [
    "print(length(model$fitted.values))\n",
    "print(length(df$cesd_isna))"
   ]
  },
  {
   "cell_type": "code",
   "execution_count": null,
   "id": "S0mDLoTKwv6o",
   "metadata": {
    "colab": {
     "base_uri": "https://localhost:8080/",
     "height": 183
    },
    "id": "S0mDLoTKwv6o",
    "outputId": "afad092c-2be9-4e1c-e84a-929a6e35b620"
   },
   "outputs": [
    {
     "ename": "ERROR",
     "evalue": "ignored",
     "output_type": "error",
     "traceback": [
      "Error in roc.default(response, predictor, auc = TRUE, ...): 'response' must have two levels\nTraceback:\n",
      "1. auc(df$cesd_isna, model$fitted.values)",
      "2. auc.default(df$cesd_isna, model$fitted.values)",
      "3. roc.default(response, predictor, auc = TRUE, ...)",
      "4. stop(\"'response' must have two levels\")"
     ]
    }
   ],
   "source": [
    "auc(df$cesd_isna, model$fitted.values)"
   ]
  },
  {
   "cell_type": "code",
   "execution_count": null,
   "id": "ymt9bFHA1dXO",
   "metadata": {
    "id": "ymt9bFHA1dXO"
   },
   "outputs": [],
   "source": [
    "df$cesd_isna = as.numeric(df$cesd_isna)\n",
    "model$fitted.values = as.numeric(model$fitted.values)"
   ]
  },
  {
   "cell_type": "code",
   "execution_count": null,
   "id": "4s7pYFxdxJ1w",
   "metadata": {
    "id": "4s7pYFxdxJ1w"
   },
   "outputs": [],
   "source": [
    "model$fitted.values"
   ]
  },
  {
   "cell_type": "code",
   "execution_count": null,
   "id": "HjkZ9gwnXCln",
   "metadata": {
    "id": "HjkZ9gwnXCln"
   },
   "outputs": [],
   "source": [
    "library(\"ggplot2\")"
   ]
  },
  {
   "cell_type": "code",
   "execution_count": null,
   "id": "DfXJ_d4QX-y1",
   "metadata": {
    "id": "DfXJ_d4QX-y1"
   },
   "outputs": [],
   "source": [
    "hist(model$fitted.values, bins=10)"
   ]
  },
  {
   "cell_type": "code",
   "execution_count": null,
   "id": "Yjg4Z2fMcbEG",
   "metadata": {
    "id": "Yjg4Z2fMcbEG"
   },
   "outputs": [],
   "source": [
    "df <- df[, c(\"depres\", \"family_problems\", \"pension\", \"disabled\", \"unemployed\", \"college\",\n",
    "              \"ragender\", \"sum\", \"log_income\", \"log_income2\", \"ragey_b\", \"age_2\", \"raedyrs\", \"hhidpn\", \"index_wave\",\n",
    "               \"hacohort\", \"racohbyr\", \"year\")]"
   ]
  },
  {
   "cell_type": "markdown",
   "id": "21d3266c",
   "metadata": {
    "id": "21d3266c"
   },
   "source": [
    "объединение лет по парам"
   ]
  },
  {
   "cell_type": "code",
   "execution_count": null,
   "id": "edcb94ab",
   "metadata": {
    "id": "edcb94ab"
   },
   "outputs": [],
   "source": [
    "df <- df %>%\n",
    " mutate(year=paste(year - (year + 1) %% 2, \"-\", year + year %% 2, sep=\"\"))\n",
    "df$year <- as.factor(df$year)"
   ]
  },
  {
   "cell_type": "markdown",
   "id": "qpdijrNjj2in",
   "metadata": {
    "id": "qpdijrNjj2in"
   },
   "source": [
    "здесь оканчивается предобработка данных. Ещё раз сохраним файл"
   ]
  },
  {
   "cell_type": "code",
   "execution_count": null,
   "id": "gPonMR-5jr-f",
   "metadata": {
    "id": "gPonMR-5jr-f"
   },
   "outputs": [],
   "source": [
    "write.csv(df, \"Health_after_preprocessing.csv\")"
   ]
  }
 ],
 "metadata": {
  "colab": {
   "provenance": []
  },
  "kernelspec": {
   "display_name": "R",
   "language": "R",
   "name": "ir"
  },
  "language_info": {
   "codemirror_mode": "r",
   "file_extension": ".r",
   "mimetype": "text/x-r-source",
   "name": "R",
   "pygments_lexer": "r",
   "version": "4.3.1"
  }
 },
 "nbformat": 4,
 "nbformat_minor": 5
}
