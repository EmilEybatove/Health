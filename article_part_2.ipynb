{
  "cells": [
    {
      "cell_type": "markdown",
      "id": "c8d1c37f",
      "metadata": {
        "id": "c8d1c37f"
      },
      "source": [
        "### Очень опасный момент. Сейчас буду пытаться привести изначальный датасет к виду, как в Dano"
      ]
    },
    {
      "cell_type": "markdown",
      "id": "c022fdfa",
      "metadata": {
        "id": "c022fdfa"
      },
      "source": [
        "считаем необходимые датасеты"
      ]
    },
    {
      "cell_type": "code",
      "execution_count": null,
      "id": "95600752",
      "metadata": {
        "id": "95600752"
      },
      "outputs": [],
      "source": [
        "part_of_full_data_with_first_cesd <- read.csv(\"https://raw.githubusercontent.com/EmilEybatove/Health/main/part_of_full_data.csv\")"
      ]
    },
    {
      "cell_type": "code",
      "execution_count": null,
      "id": "2c5ddb01",
      "metadata": {
        "id": "2c5ddb01"
      },
      "outputs": [],
      "source": [
        "df <- read.csv(\"https://raw.githubusercontent.com/EmilEybatove/Health/main/Health.csv\")"
      ]
    },
    {
      "cell_type": "markdown",
      "id": "9f93aa86",
      "metadata": {
        "id": "9f93aa86"
      },
      "source": [
        "Для начала, выделим из датасета Dano ключи ID-номер волны\n",
        "Сделаем это для того, чтобы вытащить запросами нужные данные из изначального датасета"
      ]
    },
    {
      "cell_type": "code",
      "execution_count": null,
      "id": "2150a110",
      "metadata": {
        "id": "2150a110"
      },
      "outputs": [],
      "source": [
        "keys <- df[, c(\"hhidpn\", \"index_wave\")]"
      ]
    },
    {
      "cell_type": "code",
      "source": [
        "colnames(part_of_full_data_with_first_cesd)"
      ],
      "metadata": {
        "colab": {
          "base_uri": "https://localhost:8080/",
          "height": 52
        },
        "id": "w1erxviT4CGy",
        "outputId": "e542eef8-1885-42b7-ee3e-b49aa8938f2d"
      },
      "id": "w1erxviT4CGy",
      "execution_count": null,
      "outputs": [
        {
          "output_type": "display_data",
          "data": {
            "text/html": [
              "<style>\n",
              ".list-inline {list-style: none; margin:0; padding: 0}\n",
              ".list-inline>li {display: inline-block}\n",
              ".list-inline>li:not(:last-child)::after {content: \"\\00b7\"; padding: 0 .5ex}\n",
              "</style>\n",
              "<ol class=list-inline><li>'X'</li><li>'hhidpn'</li><li>'r1cesd'</li><li>'r2cesd'</li><li>'r3cesd'</li><li>'r4cesd'</li><li>'r5cesd'</li><li>'r6cesd'</li><li>'r7cesd'</li><li>'r8cesd'</li><li>'r9cesd'</li><li>'r10cesd'</li><li>'r11cesd'</li><li>'r1proxy'</li><li>'r2proxy'</li><li>'r3proxy'</li><li>'r4proxy'</li><li>'r5proxy'</li><li>'r6proxy'</li><li>'r7proxy'</li><li>'r8proxy'</li><li>'r9proxy'</li><li>'r10proxy'</li><li>'r11proxy'</li><li>'hacohort'</li><li>'racohbyr'</li><li>'raedyrs'</li></ol>\n"
            ],
            "text/markdown": "1. 'X'\n2. 'hhidpn'\n3. 'r1cesd'\n4. 'r2cesd'\n5. 'r3cesd'\n6. 'r4cesd'\n7. 'r5cesd'\n8. 'r6cesd'\n9. 'r7cesd'\n10. 'r8cesd'\n11. 'r9cesd'\n12. 'r10cesd'\n13. 'r11cesd'\n14. 'r1proxy'\n15. 'r2proxy'\n16. 'r3proxy'\n17. 'r4proxy'\n18. 'r5proxy'\n19. 'r6proxy'\n20. 'r7proxy'\n21. 'r8proxy'\n22. 'r9proxy'\n23. 'r10proxy'\n24. 'r11proxy'\n25. 'hacohort'\n26. 'racohbyr'\n27. 'raedyrs'\n\n\n",
            "text/latex": "\\begin{enumerate*}\n\\item 'X'\n\\item 'hhidpn'\n\\item 'r1cesd'\n\\item 'r2cesd'\n\\item 'r3cesd'\n\\item 'r4cesd'\n\\item 'r5cesd'\n\\item 'r6cesd'\n\\item 'r7cesd'\n\\item 'r8cesd'\n\\item 'r9cesd'\n\\item 'r10cesd'\n\\item 'r11cesd'\n\\item 'r1proxy'\n\\item 'r2proxy'\n\\item 'r3proxy'\n\\item 'r4proxy'\n\\item 'r5proxy'\n\\item 'r6proxy'\n\\item 'r7proxy'\n\\item 'r8proxy'\n\\item 'r9proxy'\n\\item 'r10proxy'\n\\item 'r11proxy'\n\\item 'hacohort'\n\\item 'racohbyr'\n\\item 'raedyrs'\n\\end{enumerate*}\n",
            "text/plain": [
              " [1] \"X\"        \"hhidpn\"   \"r1cesd\"   \"r2cesd\"   \"r3cesd\"   \"r4cesd\"  \n",
              " [7] \"r5cesd\"   \"r6cesd\"   \"r7cesd\"   \"r8cesd\"   \"r9cesd\"   \"r10cesd\" \n",
              "[13] \"r11cesd\"  \"r1proxy\"  \"r2proxy\"  \"r3proxy\"  \"r4proxy\"  \"r5proxy\" \n",
              "[19] \"r6proxy\"  \"r7proxy\"  \"r8proxy\"  \"r9proxy\"  \"r10proxy\" \"r11proxy\"\n",
              "[25] \"hacohort\" \"racohbyr\" \"raedyrs\" "
            ]
          },
          "metadata": {}
        }
      ]
    },
    {
      "cell_type": "markdown",
      "id": "4662e345",
      "metadata": {
        "id": "4662e345"
      },
      "source": [
        "Теперь напишем очень кривой костыль, который мне не нравится. **Его точно нужно будет менять, если мы хотим работать с ещё какими-то данными**. но, пока, для каждой волны выолним соответствующий запрос"
      ]
    },
    {
      "cell_type": "code",
      "execution_count": null,
      "id": "c92da45c",
      "metadata": {
        "id": "c92da45c"
      },
      "outputs": [],
      "source": [
        "new_format <- data.frame()\n",
        "\n",
        "for (i in 1:11){\n",
        "    IDs <- keys[keys$index_wave == i,]$hhidpn # сохраним ID всех домохозяйств, проходивших опрос в данную волну\n",
        "    cesd <- paste(\"r\", i, \"cesd\", sep=\"\") # имя соответствующей колонки cesd\n",
        "    proxy <- paste(\"r\", i, \"proxy\", sep=\"\") # имя соответствующей колонки proxy\n",
        "    subset <- part_of_full_data_with_first_cesd[match(IDs, part_of_full_data_with_first_cesd$hhidpn), c(\"hhidpn\", cesd, proxy, \"hacohort\", \"racohbyr\", \"raedyrs\")] # данные о когортах и cesd этой волны\n",
        "    subset$index_wave <- rep(i, length(subset$hhidpn))\n",
        "    names(subset)[2] = \"cesd\"\n",
        "    names(subset)[3] = \"proxy\"\n",
        "\n",
        "    new_format <- rbind(new_format, subset)\n",
        "}"
      ]
    },
    {
      "cell_type": "markdown",
      "id": "a2576582",
      "metadata": {
        "id": "a2576582"
      },
      "source": [
        "Эту магию я позже хочу проверить. Подозрительно просто получилось. Match нужен, ибо этот гений не понимает, что обращения по изменённым индексам и номерам строк - не одно и то же. это как обращение в pandas через loc. Увы((("
      ]
    },
    {
      "cell_type": "markdown",
      "id": "93525f83",
      "metadata": {
        "id": "93525f83"
      },
      "source": [
        "Теперь, детишки, давайте переходить к самому долгожданному событию этой минуты. будем мёржить датасеты по паре hhidpn и index_wave"
      ]
    },
    {
      "cell_type": "code",
      "execution_count": null,
      "id": "17fb34b5",
      "metadata": {
        "id": "17fb34b5"
      },
      "outputs": [],
      "source": [
        "result <- merge(x=new_format, y=df, by=c(\"hhidpn\", \"index_wave\"))"
      ]
    },
    {
      "cell_type": "markdown",
      "id": "ac1cde8f",
      "metadata": {
        "id": "ac1cde8f"
      },
      "source": [
        "А теперь сохраним это чудо в новый файл, который в питоне избавим от ужасных .w, .r и.т.п."
      ]
    },
    {
      "cell_type": "code",
      "execution_count": null,
      "id": "3fda5e59",
      "metadata": {
        "id": "3fda5e59"
      },
      "outputs": [],
      "source": [
        "write.csv(result, \"merget_Helth.csv\")"
      ]
    },
    {
      "cell_type": "markdown",
      "id": "44925162",
      "metadata": {
        "id": "44925162"
      },
      "source": [
        "Теперь перейдём к следущей части"
      ]
    },
    {
      "cell_type": "code",
      "execution_count": null,
      "id": "19e24d5b",
      "metadata": {
        "id": "19e24d5b"
      },
      "outputs": [],
      "source": []
    }
  ],
  "metadata": {
    "kernelspec": {
      "display_name": "R",
      "language": "R",
      "name": "ir"
    },
    "language_info": {
      "codemirror_mode": "r",
      "file_extension": ".r",
      "mimetype": "text/x-r-source",
      "name": "R",
      "pygments_lexer": "r",
      "version": "4.2.2"
    },
    "colab": {
      "provenance": []
    }
  },
  "nbformat": 4,
  "nbformat_minor": 5
}